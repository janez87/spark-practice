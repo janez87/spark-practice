{
 "cells": [
  {
   "cell_type": "markdown",
   "metadata": {},
   "source": [
    "# Lab 4: Spark Dataframes and SQL (Part II)"
   ]
  },
  {
   "cell_type": "markdown",
   "metadata": {},
   "source": [
    "In this part, we will practice with data sets concerning soccer palyers and thier performance data within matches. We have two datasets: players and player attributes. The firt has a few columns and a few rows which can serve as a lookup table. The second contains several attributes which are useful for extracting different insights."
   ]
  },
  {
   "cell_type": "markdown",
   "metadata": {},
   "source": [
    "Let's start creating a session and load the data the same way we did with the London crime data set"
   ]
  },
  {
   "cell_type": "code",
   "execution_count": 5,
   "metadata": {},
   "outputs": [],
   "source": [
    "from pyspark.sql import SparkSession\n",
    "\n",
    "spark = SparkSession \\\n",
    "    .builder \\\n",
    "    .appName(\"Analyzing soccer players\") \\\n",
    "    .master('spark://spark-master:7077') \\\n",
    "    .config(\"spark.sql.repl.eagerEval.enabled\", True) \\\n",
    "    .getOrCreate()"
   ]
  },
  {
   "cell_type": "code",
   "execution_count": 6,
   "metadata": {},
   "outputs": [
    {
     "data": {
      "text/html": [
       "\n",
       "            <div>\n",
       "                <p><b>SparkSession - in-memory</b></p>\n",
       "                \n",
       "        <div>\n",
       "            <p><b>SparkContext</b></p>\n",
       "\n",
       "            <p><a href=\"http://cc2e5c192d97:4041\">Spark UI</a></p>\n",
       "\n",
       "            <dl>\n",
       "              <dt>Version</dt>\n",
       "                <dd><code>v3.0.0</code></dd>\n",
       "              <dt>Master</dt>\n",
       "                <dd><code>local[*]</code></dd>\n",
       "              <dt>AppName</dt>\n",
       "                <dd><code>Analyzing soccer players</code></dd>\n",
       "            </dl>\n",
       "        </div>\n",
       "        \n",
       "            </div>\n",
       "        "
      ],
      "text/plain": [
       "<pyspark.sql.session.SparkSession at 0x7fd040082820>"
      ]
     },
     "execution_count": 6,
     "metadata": {},
     "output_type": "execute_result"
    }
   ],
   "source": [
    "spark"
   ]
  },
  {
   "cell_type": "code",
   "execution_count": 7,
   "metadata": {},
   "outputs": [],
   "source": [
    "players = spark.read\\\n",
    "               .format(\"csv\")\\\n",
    "               .option(\"header\", \"true\")\\\n",
    "               .load(\"data/player.csv\")"
   ]
  },
  {
   "cell_type": "code",
   "execution_count": 10,
   "metadata": {},
   "outputs": [
    {
     "name": "stdout",
     "output_type": "stream",
     "text": [
      "root\n",
      " |-- id: string (nullable = true)\n",
      " |-- player_api_id: string (nullable = true)\n",
      " |-- player_name: string (nullable = true)\n",
      " |-- player_fifa_api_id: string (nullable = true)\n",
      " |-- birthday: string (nullable = true)\n",
      " |-- height: string (nullable = true)\n",
      " |-- weight: string (nullable = true)\n",
      "\n"
     ]
    }
   ],
   "source": [
    "players.printSchema()"
   ]
  },
  {
   "cell_type": "code",
   "execution_count": 12,
   "metadata": {},
   "outputs": [
    {
     "data": {
      "text/html": [
       "<table border='1'>\n",
       "<tr><th>id</th><th>player_api_id</th><th>player_name</th><th>player_fifa_api_id</th><th>birthday</th><th>height</th><th>weight</th></tr>\n",
       "<tr><td>1</td><td>505942</td><td>Aaron Appindangoye</td><td>218353</td><td>1992-02-29 00:00:00</td><td>182.88</td><td>187</td></tr>\n",
       "<tr><td>2</td><td>155782</td><td>Aaron Cresswell</td><td>189615</td><td>1989-12-15 00:00:00</td><td>170.18</td><td>146</td></tr>\n",
       "<tr><td>3</td><td>162549</td><td>Aaron Doran</td><td>186170</td><td>1991-05-13 00:00:00</td><td>170.18</td><td>163</td></tr>\n",
       "<tr><td>4</td><td>30572</td><td>Aaron Galindo</td><td>140161</td><td>1982-05-08 00:00:00</td><td>182.88</td><td>198</td></tr>\n",
       "<tr><td>5</td><td>23780</td><td>Aaron Hughes</td><td>17725</td><td>1979-11-08 00:00:00</td><td>182.88</td><td>154</td></tr>\n",
       "<tr><td>6</td><td>27316</td><td>Aaron Hunt</td><td>158138</td><td>1986-09-04 00:00:00</td><td>182.88</td><td>161</td></tr>\n",
       "<tr><td>7</td><td>564793</td><td>Aaron Kuhl</td><td>221280</td><td>1996-01-30 00:00:00</td><td>172.72</td><td>146</td></tr>\n",
       "<tr><td>8</td><td>30895</td><td>Aaron Lennon</td><td>152747</td><td>1987-04-16 00:00:00</td><td>165.1</td><td>139</td></tr>\n",
       "<tr><td>9</td><td>528212</td><td>Aaron Lennox</td><td>206592</td><td>1993-02-19 00:00:00</td><td>190.5</td><td>181</td></tr>\n",
       "<tr><td>10</td><td>101042</td><td>Aaron Meijers</td><td>188621</td><td>1987-10-28 00:00:00</td><td>175.26</td><td>170</td></tr>\n",
       "<tr><td>11</td><td>23889</td><td>Aaron Mokoena</td><td>47189</td><td>1980-11-25 00:00:00</td><td>182.88</td><td>181</td></tr>\n",
       "<tr><td>12</td><td>231592</td><td>Aaron Mooy</td><td>194958</td><td>1990-09-15 00:00:00</td><td>175.26</td><td>150</td></tr>\n",
       "<tr><td>13</td><td>163222</td><td>Aaron Muirhead</td><td>213568</td><td>1990-08-30 00:00:00</td><td>187.96</td><td>168</td></tr>\n",
       "<tr><td>14</td><td>40719</td><td>Aaron Niguez</td><td>183853</td><td>1989-04-26 00:00:00</td><td>170.18</td><td>143</td></tr>\n",
       "<tr><td>15</td><td>75489</td><td>Aaron Ramsey</td><td>186561</td><td>1990-12-26 00:00:00</td><td>177.8</td><td>154</td></tr>\n",
       "<tr><td>16</td><td>597948</td><td>Aaron Splaine</td><td>226014</td><td>1996-10-13 00:00:00</td><td>172.72</td><td>163</td></tr>\n",
       "<tr><td>17</td><td>161644</td><td>Aaron Taylor-Sinc...</td><td>213569</td><td>1991-04-08 00:00:00</td><td>182.88</td><td>176</td></tr>\n",
       "<tr><td>18</td><td>23499</td><td>Aaron Wilbraham</td><td>2335</td><td>1979-10-21 00:00:00</td><td>190.5</td><td>159</td></tr>\n",
       "<tr><td>19</td><td>120919</td><td>Aatif Chahechouhe</td><td>187939</td><td>1986-07-02 00:00:00</td><td>175.26</td><td>150</td></tr>\n",
       "<tr><td>20</td><td>46447</td><td>Abasse Ba</td><td>156626</td><td>1976-07-12 00:00:00</td><td>187.96</td><td>185</td></tr>\n",
       "</table>\n",
       "only showing top 20 rows\n"
      ],
      "text/plain": [
       "DataFrame[id: string, player_api_id: string, player_name: string, player_fifa_api_id: string, birthday: string, height: string, weight: string]"
      ]
     },
     "execution_count": 12,
     "metadata": {},
     "output_type": "execute_result"
    }
   ],
   "source": [
    "players"
   ]
  },
  {
   "cell_type": "code",
   "execution_count": 13,
   "metadata": {},
   "outputs": [],
   "source": [
    "player_attributes = spark.read\\\n",
    "                         .format(\"csv\")\\\n",
    "                         .option(\"header\", \"true\")\\\n",
    "                         .load(\"data/player_attributes.csv\")"
   ]
  },
  {
   "cell_type": "code",
   "execution_count": 14,
   "metadata": {},
   "outputs": [
    {
     "name": "stdout",
     "output_type": "stream",
     "text": [
      "root\n",
      " |-- id: string (nullable = true)\n",
      " |-- player_fifa_api_id: string (nullable = true)\n",
      " |-- player_api_id: string (nullable = true)\n",
      " |-- date: string (nullable = true)\n",
      " |-- overall_rating: string (nullable = true)\n",
      " |-- potential: string (nullable = true)\n",
      " |-- preferred_foot: string (nullable = true)\n",
      " |-- attacking_work_rate: string (nullable = true)\n",
      " |-- defensive_work_rate: string (nullable = true)\n",
      " |-- crossing: string (nullable = true)\n",
      " |-- finishing: string (nullable = true)\n",
      " |-- heading_accuracy: string (nullable = true)\n",
      " |-- short_passing: string (nullable = true)\n",
      " |-- volleys: string (nullable = true)\n",
      " |-- dribbling: string (nullable = true)\n",
      " |-- curve: string (nullable = true)\n",
      " |-- free_kick_accuracy: string (nullable = true)\n",
      " |-- long_passing: string (nullable = true)\n",
      " |-- ball_control: string (nullable = true)\n",
      " |-- acceleration: string (nullable = true)\n",
      " |-- sprint_speed: string (nullable = true)\n",
      " |-- agility: string (nullable = true)\n",
      " |-- reactions: string (nullable = true)\n",
      " |-- balance: string (nullable = true)\n",
      " |-- shot_power: string (nullable = true)\n",
      " |-- jumping: string (nullable = true)\n",
      " |-- stamina: string (nullable = true)\n",
      " |-- strength: string (nullable = true)\n",
      " |-- long_shots: string (nullable = true)\n",
      " |-- aggression: string (nullable = true)\n",
      " |-- interceptions: string (nullable = true)\n",
      " |-- positioning: string (nullable = true)\n",
      " |-- vision: string (nullable = true)\n",
      " |-- penalties: string (nullable = true)\n",
      " |-- marking: string (nullable = true)\n",
      " |-- standing_tackle: string (nullable = true)\n",
      " |-- sliding_tackle: string (nullable = true)\n",
      " |-- gk_diving: string (nullable = true)\n",
      " |-- gk_handling: string (nullable = true)\n",
      " |-- gk_kicking: string (nullable = true)\n",
      " |-- gk_positioning: string (nullable = true)\n",
      " |-- gk_reflexes: string (nullable = true)\n",
      "\n"
     ]
    }
   ],
   "source": [
    "player_attributes.printSchema()"
   ]
  },
  {
   "cell_type": "code",
   "execution_count": 16,
   "metadata": {},
   "outputs": [
    {
     "data": {
      "text/html": [
       "<table border='1'>\n",
       "<tr><th>player_api_id</th><th>date</th></tr>\n",
       "<tr><td>505942</td><td>2016-02-18 00:00:00</td></tr>\n",
       "<tr><td>155782</td><td>2014-12-05 00:00:00</td></tr>\n",
       "<tr><td>155782</td><td>2014-03-14 00:00:00</td></tr>\n",
       "<tr><td>155782</td><td>2013-02-15 00:00:00</td></tr>\n",
       "<tr><td>162549</td><td>2009-02-22 00:00:00</td></tr>\n",
       "<tr><td>30572</td><td>2015-07-03 00:00:00</td></tr>\n",
       "<tr><td>30572</td><td>2014-06-06 00:00:00</td></tr>\n",
       "<tr><td>30572</td><td>2014-04-11 00:00:00</td></tr>\n",
       "<tr><td>23780</td><td>2015-09-21 00:00:00</td></tr>\n",
       "<tr><td>23780</td><td>2014-01-31 00:00:00</td></tr>\n",
       "<tr><td>23780</td><td>2014-01-17 00:00:00</td></tr>\n",
       "<tr><td>23780</td><td>2013-03-08 00:00:00</td></tr>\n",
       "<tr><td>23780</td><td>2012-08-31 00:00:00</td></tr>\n",
       "<tr><td>23780</td><td>2008-08-30 00:00:00</td></tr>\n",
       "<tr><td>27316</td><td>2014-09-18 00:00:00</td></tr>\n",
       "<tr><td>27316</td><td>2013-09-20 00:00:00</td></tr>\n",
       "<tr><td>27316</td><td>2010-02-22 00:00:00</td></tr>\n",
       "<tr><td>564793</td><td>2016-04-21 00:00:00</td></tr>\n",
       "<tr><td>564793</td><td>2014-10-02 00:00:00</td></tr>\n",
       "<tr><td>30895</td><td>2015-09-21 00:00:00</td></tr>\n",
       "</table>\n",
       "only showing top 20 rows\n"
      ],
      "text/plain": [
       "+-------------+-------------------+\n",
       "|player_api_id|               date|\n",
       "+-------------+-------------------+\n",
       "|       505942|2016-02-18 00:00:00|\n",
       "|       155782|2014-12-05 00:00:00|\n",
       "|       155782|2014-03-14 00:00:00|\n",
       "|       155782|2013-02-15 00:00:00|\n",
       "|       162549|2009-02-22 00:00:00|\n",
       "|        30572|2015-07-03 00:00:00|\n",
       "|        30572|2014-06-06 00:00:00|\n",
       "|        30572|2014-04-11 00:00:00|\n",
       "|        23780|2015-09-21 00:00:00|\n",
       "|        23780|2014-01-31 00:00:00|\n",
       "|        23780|2014-01-17 00:00:00|\n",
       "|        23780|2013-03-08 00:00:00|\n",
       "|        23780|2012-08-31 00:00:00|\n",
       "|        23780|2008-08-30 00:00:00|\n",
       "|        27316|2014-09-18 00:00:00|\n",
       "|        27316|2013-09-20 00:00:00|\n",
       "|        27316|2010-02-22 00:00:00|\n",
       "|       564793|2016-04-21 00:00:00|\n",
       "|       564793|2014-10-02 00:00:00|\n",
       "|        30895|2015-09-21 00:00:00|\n",
       "+-------------+-------------------+\n",
       "only showing top 20 rows"
      ]
     },
     "execution_count": 16,
     "metadata": {},
     "output_type": "execute_result"
    }
   ],
   "source": [
    "player_attributes.select('player_api_id','date').sample(fraction=0.1)"
   ]
  },
  {
   "cell_type": "markdown",
   "metadata": {},
   "source": [
    "#### Player attributes\n",
    "\n",
    "* Have values across multiple years\n",
    "* Can be associated with a particular player using the **player_api_id** column\n",
    "* Different attributes are valuable for different kinds of players i.e strikers, midfields, goalkeepers"
   ]
  },
  {
   "cell_type": "code",
   "execution_count": 18,
   "metadata": {},
   "outputs": [
    {
     "data": {
      "text/plain": [
       "(11060, 183978)"
      ]
     },
     "execution_count": 18,
     "metadata": {},
     "output_type": "execute_result"
    }
   ],
   "source": [
    "players.count() , player_attributes.count()"
   ]
  },
  {
   "cell_type": "code",
   "execution_count": 17,
   "metadata": {},
   "outputs": [
    {
     "name": "stderr",
     "output_type": "stream",
     "text": [
      "                                                                                \r"
     ]
    },
    {
     "data": {
      "text/plain": [
       "11060"
      ]
     },
     "execution_count": 17,
     "metadata": {},
     "output_type": "execute_result"
    }
   ],
   "source": [
    "player_attributes.select('player_api_id')\\\n",
    "                 .distinct()\\\n",
    "                 .count()"
   ]
  },
  {
   "cell_type": "markdown",
   "metadata": {},
   "source": [
    "### Cleaning Data\n",
    "Drop columns ```id``` and ```player_fifa_api_id``` from the players dataset"
   ]
  },
  {
   "cell_type": "code",
   "execution_count": 19,
   "metadata": {},
   "outputs": [
    {
     "data": {
      "text/plain": [
       "['player_api_id', 'player_name', 'birthday', 'height', 'weight']"
      ]
     },
     "execution_count": 19,
     "metadata": {},
     "output_type": "execute_result"
    }
   ],
   "source": [
    "#Remove before sharing with students\n",
    "players = players.drop('id', 'player_fifa_api_id')\n",
    "players.columns"
   ]
  },
  {
   "cell_type": "markdown",
   "metadata": {},
   "source": [
    "According to our requirement there are certain traits which we are not at all going to use in this entire program<br>\n",
    "So its better to remove those traits to make our dataset less bulky.From the player_attributes dataset, we need to drop the columns ```id, player_fifa_api_id, preferred_foot, attacking_work_rate, defensive_work_rate, crossing, jumping, sprint_speed, balance, aggression, short_passing, potential```."
   ]
  },
  {
   "cell_type": "code",
   "execution_count": 20,
   "metadata": {},
   "outputs": [
    {
     "data": {
      "text/plain": [
       "['player_api_id',\n",
       " 'date',\n",
       " 'overall_rating',\n",
       " 'finishing',\n",
       " 'heading_accuracy',\n",
       " 'volleys',\n",
       " 'dribbling',\n",
       " 'curve',\n",
       " 'free_kick_accuracy',\n",
       " 'long_passing',\n",
       " 'ball_control',\n",
       " 'acceleration',\n",
       " 'agility',\n",
       " 'reactions',\n",
       " 'shot_power',\n",
       " 'stamina',\n",
       " 'strength',\n",
       " 'long_shots',\n",
       " 'interceptions',\n",
       " 'positioning',\n",
       " 'vision',\n",
       " 'penalties',\n",
       " 'marking',\n",
       " 'standing_tackle',\n",
       " 'sliding_tackle',\n",
       " 'gk_diving',\n",
       " 'gk_handling',\n",
       " 'gk_kicking',\n",
       " 'gk_positioning',\n",
       " 'gk_reflexes']"
      ]
     },
     "execution_count": 20,
     "metadata": {},
     "output_type": "execute_result"
    }
   ],
   "source": [
    "#Remove before sharing with students\n",
    "player_attributes = player_attributes.drop(\n",
    "    'id', \n",
    "    'player_fifa_api_id', \n",
    "    'preferred_foot',\n",
    "    'attacking_work_rate',\n",
    "    'defensive_work_rate',\n",
    "    'crossing',\n",
    "    'jumping',\n",
    "    'sprint_speed',\n",
    "    'balance',\n",
    "    'aggression',\n",
    "    'short_passing',\n",
    "    'potential'\n",
    ")\n",
    "player_attributes.columns"
   ]
  },
  {
   "cell_type": "markdown",
   "metadata": {},
   "source": [
    "From both datasets, drop any rows that have empty cells"
   ]
  },
  {
   "cell_type": "code",
   "execution_count": 21,
   "metadata": {},
   "outputs": [],
   "source": [
    "player_attributes = player_attributes.dropna()\n",
    "players = players.dropna()"
   ]
  },
  {
   "cell_type": "code",
   "execution_count": 22,
   "metadata": {},
   "outputs": [
    {
     "data": {
      "text/plain": [
       "(11060, 181265)"
      ]
     },
     "execution_count": 22,
     "metadata": {},
     "output_type": "execute_result"
    }
   ],
   "source": [
    "players.count() , player_attributes.count()"
   ]
  },
  {
   "cell_type": "markdown",
   "metadata": {},
   "source": [
    "#### Extract year information into a separate column\n",
    "\n",
    "We have a ```date``` attribute in ```player_attributes``` data frame. It is given as a full date. But, we need to extract  only the year value. For example it is given as '2007-02-22 00:00:00'. So, we need to extract the first four digits from the left. We can see the date as a string and use the '-' symbole as a separator and split the string on that separator and take the first entry in the resulting String[]. \n",
    "\n",
    "We can use a user-defined function ```(UDF)``` for this purpose as shown below."
   ]
  },
  {
   "cell_type": "code",
   "execution_count": 23,
   "metadata": {},
   "outputs": [],
   "source": [
    "from pyspark.sql.functions import udf"
   ]
  },
  {
   "cell_type": "code",
   "execution_count": 24,
   "metadata": {},
   "outputs": [],
   "source": [
    "year_extract_udf = udf(lambda date: date.split('-')[0])\n",
    "\n",
    "player_attributes = player_attributes.withColumn(\n",
    "    \"year\",\n",
    "    year_extract_udf(player_attributes.date)\n",
    ")"
   ]
  },
  {
   "cell_type": "markdown",
   "metadata": {},
   "source": [
    "Alternatively, we can use the expression of the UDF within the ```withColumn``` function"
   ]
  },
  {
   "cell_type": "code",
   "execution_count": 25,
   "metadata": {},
   "outputs": [
    {
     "name": "stderr",
     "output_type": "stream",
     "text": [
      "Traceback (most recent call last):\n",
      "  File \"/usr/local/lib/python3.9/dist-packages/pyspark/python/lib/pyspark.zip/pyspark/daemon.py\", line 186, in manager\n",
      "  File \"/usr/local/lib/python3.9/dist-packages/pyspark/python/lib/pyspark.zip/pyspark/daemon.py\", line 74, in worker\n",
      "  File \"/usr/local/lib/python3.9/dist-packages/pyspark/python/lib/pyspark.zip/pyspark/worker.py\", line 642, in main\n",
      "    if read_int(infile) == SpecialLengths.END_OF_STREAM:\n",
      "  File \"/usr/local/lib/python3.9/dist-packages/pyspark/python/lib/pyspark.zip/pyspark/serializers.py\", line 595, in read_int\n",
      "    raise EOFError\n",
      "EOFError\n"
     ]
    },
    {
     "data": {
      "text/html": [
       "<table border='1'>\n",
       "<tr><th>player_api_id</th><th>date</th><th>year</th><th>year2</th></tr>\n",
       "<tr><td>505942</td><td>2016-02-18 00:00:00</td><td>2016</td><td>2016</td></tr>\n",
       "<tr><td>505942</td><td>2015-11-19 00:00:00</td><td>2015</td><td>2015</td></tr>\n",
       "<tr><td>505942</td><td>2015-09-21 00:00:00</td><td>2015</td><td>2015</td></tr>\n",
       "<tr><td>505942</td><td>2015-03-20 00:00:00</td><td>2015</td><td>2015</td></tr>\n",
       "<tr><td>505942</td><td>2007-02-22 00:00:00</td><td>2007</td><td>2007</td></tr>\n",
       "<tr><td>155782</td><td>2016-04-21 00:00:00</td><td>2016</td><td>2016</td></tr>\n",
       "<tr><td>155782</td><td>2016-04-07 00:00:00</td><td>2016</td><td>2016</td></tr>\n",
       "<tr><td>155782</td><td>2016-01-07 00:00:00</td><td>2016</td><td>2016</td></tr>\n",
       "<tr><td>155782</td><td>2015-12-24 00:00:00</td><td>2015</td><td>2015</td></tr>\n",
       "<tr><td>155782</td><td>2015-12-17 00:00:00</td><td>2015</td><td>2015</td></tr>\n",
       "<tr><td>155782</td><td>2015-10-16 00:00:00</td><td>2015</td><td>2015</td></tr>\n",
       "<tr><td>155782</td><td>2015-09-25 00:00:00</td><td>2015</td><td>2015</td></tr>\n",
       "<tr><td>155782</td><td>2015-09-21 00:00:00</td><td>2015</td><td>2015</td></tr>\n",
       "<tr><td>155782</td><td>2015-01-09 00:00:00</td><td>2015</td><td>2015</td></tr>\n",
       "<tr><td>155782</td><td>2014-12-05 00:00:00</td><td>2014</td><td>2014</td></tr>\n",
       "<tr><td>155782</td><td>2014-11-07 00:00:00</td><td>2014</td><td>2014</td></tr>\n",
       "<tr><td>155782</td><td>2014-09-18 00:00:00</td><td>2014</td><td>2014</td></tr>\n",
       "<tr><td>155782</td><td>2014-05-02 00:00:00</td><td>2014</td><td>2014</td></tr>\n",
       "<tr><td>155782</td><td>2014-04-04 00:00:00</td><td>2014</td><td>2014</td></tr>\n",
       "<tr><td>155782</td><td>2014-03-14 00:00:00</td><td>2014</td><td>2014</td></tr>\n",
       "</table>\n",
       "only showing top 20 rows\n"
      ],
      "text/plain": [
       "+-------------+-------------------+----+-----+\n",
       "|player_api_id|               date|year|year2|\n",
       "+-------------+-------------------+----+-----+\n",
       "|       505942|2016-02-18 00:00:00|2016| 2016|\n",
       "|       505942|2015-11-19 00:00:00|2015| 2015|\n",
       "|       505942|2015-09-21 00:00:00|2015| 2015|\n",
       "|       505942|2015-03-20 00:00:00|2015| 2015|\n",
       "|       505942|2007-02-22 00:00:00|2007| 2007|\n",
       "|       155782|2016-04-21 00:00:00|2016| 2016|\n",
       "|       155782|2016-04-07 00:00:00|2016| 2016|\n",
       "|       155782|2016-01-07 00:00:00|2016| 2016|\n",
       "|       155782|2015-12-24 00:00:00|2015| 2015|\n",
       "|       155782|2015-12-17 00:00:00|2015| 2015|\n",
       "|       155782|2015-10-16 00:00:00|2015| 2015|\n",
       "|       155782|2015-09-25 00:00:00|2015| 2015|\n",
       "|       155782|2015-09-21 00:00:00|2015| 2015|\n",
       "|       155782|2015-01-09 00:00:00|2015| 2015|\n",
       "|       155782|2014-12-05 00:00:00|2014| 2014|\n",
       "|       155782|2014-11-07 00:00:00|2014| 2014|\n",
       "|       155782|2014-09-18 00:00:00|2014| 2014|\n",
       "|       155782|2014-05-02 00:00:00|2014| 2014|\n",
       "|       155782|2014-04-04 00:00:00|2014| 2014|\n",
       "|       155782|2014-03-14 00:00:00|2014| 2014|\n",
       "+-------------+-------------------+----+-----+\n",
       "only showing top 20 rows"
      ]
     },
     "execution_count": 25,
     "metadata": {},
     "output_type": "execute_result"
    }
   ],
   "source": [
    "from pyspark.sql.functions import split\n",
    "player_attributes = player_attributes.withColumn(\"year2\", split(player_attributes.date,('-'))[0])\n",
    "player_attributes.select(\"player_api_id\",\"date\",\"year\",\"year2\")"
   ]
  },
  {
   "cell_type": "markdown",
   "metadata": {},
   "source": [
    "We can now drop the ```date``` attribute as we do not need it anymore. Remember that it is a good practice to keep only the columns you need as in a produciton setting, the data is going to be large and dropping unwanted column will help reduce resource consumption and improve the throughput of the job."
   ]
  },
  {
   "cell_type": "code",
   "execution_count": 26,
   "metadata": {},
   "outputs": [],
   "source": [
    "player_attributes = player_attributes.drop('date')"
   ]
  },
  {
   "cell_type": "code",
   "execution_count": 27,
   "metadata": {},
   "outputs": [
    {
     "data": {
      "text/plain": [
       "['player_api_id',\n",
       " 'overall_rating',\n",
       " 'finishing',\n",
       " 'heading_accuracy',\n",
       " 'volleys',\n",
       " 'dribbling',\n",
       " 'curve',\n",
       " 'free_kick_accuracy',\n",
       " 'long_passing',\n",
       " 'ball_control',\n",
       " 'acceleration',\n",
       " 'agility',\n",
       " 'reactions',\n",
       " 'shot_power',\n",
       " 'stamina',\n",
       " 'strength',\n",
       " 'long_shots',\n",
       " 'interceptions',\n",
       " 'positioning',\n",
       " 'vision',\n",
       " 'penalties',\n",
       " 'marking',\n",
       " 'standing_tackle',\n",
       " 'sliding_tackle',\n",
       " 'gk_diving',\n",
       " 'gk_handling',\n",
       " 'gk_kicking',\n",
       " 'gk_positioning',\n",
       " 'gk_reflexes',\n",
       " 'year',\n",
       " 'year2']"
      ]
     },
     "execution_count": 27,
     "metadata": {},
     "output_type": "execute_result"
    }
   ],
   "source": [
    "player_attributes.columns"
   ]
  },
  {
   "cell_type": "markdown",
   "metadata": {},
   "source": [
    "#### Filter to get all players who were active in the year 2016"
   ]
  },
  {
   "cell_type": "code",
   "execution_count": 28,
   "metadata": {},
   "outputs": [],
   "source": [
    "# Remove before sharing with students\n",
    "pa_2016 = player_attributes.filter(player_attributes.year == 2016)"
   ]
  },
  {
   "cell_type": "code",
   "execution_count": 29,
   "metadata": {},
   "outputs": [
    {
     "name": "stderr",
     "output_type": "stream",
     "text": [
      "                                                                                \r"
     ]
    },
    {
     "data": {
      "text/plain": [
       "14098"
      ]
     },
     "execution_count": 29,
     "metadata": {},
     "output_type": "execute_result"
    }
   ],
   "source": [
    "pa_2016.count()"
   ]
  },
  {
   "cell_type": "markdown",
   "metadata": {},
   "source": [
    "How many distinct players are there for the 2016 data?"
   ]
  },
  {
   "cell_type": "code",
   "execution_count": 30,
   "metadata": {},
   "outputs": [
    {
     "name": "stderr",
     "output_type": "stream",
     "text": [
      "                                                                                \r"
     ]
    },
    {
     "data": {
      "text/plain": [
       "5586"
      ]
     },
     "execution_count": 30,
     "metadata": {},
     "output_type": "execute_result"
    }
   ],
   "source": [
    "# Remove before sharing with students\n",
    "pa_2016.select(pa_2016.player_api_id)\\\n",
    "       .distinct()\\\n",
    "       .count()"
   ]
  },
  {
   "cell_type": "markdown",
   "metadata": {},
   "source": [
    "#### Find the best striker in the year 2016\n",
    "\n",
    "* Consider the scores for finishing, shot_power and acceleration to determine this\n",
    "* There can be more than one entry for a player in the year (multiple seasons, some teams make entries per quarter)\n",
    "* Find the average scores across the multiple records"
   ]
  },
  {
   "cell_type": "code",
   "execution_count": 31,
   "metadata": {},
   "outputs": [],
   "source": [
    "pa_striker_2016 = pa_2016.groupBy('player_api_id')\\\n",
    "                       .agg({\n",
    "                           'finishing':\"avg\",\n",
    "                           \"shot_power\":\"avg\",\n",
    "                           \"acceleration\":\"avg\"\n",
    "                       })"
   ]
  },
  {
   "cell_type": "code",
   "execution_count": 32,
   "metadata": {},
   "outputs": [
    {
     "data": {
      "text/plain": [
       "5586"
      ]
     },
     "execution_count": 32,
     "metadata": {},
     "output_type": "execute_result"
    }
   ],
   "source": [
    "pa_striker_2016.count()"
   ]
  },
  {
   "cell_type": "code",
   "execution_count": 33,
   "metadata": {
    "scrolled": true
   },
   "outputs": [
    {
     "name": "stderr",
     "output_type": "stream",
     "text": [
      "                                                                                \r"
     ]
    },
    {
     "data": {
      "text/html": [
       "<table border='1'>\n",
       "<tr><th>player_api_id</th><th>avg(finishing)</th><th>avg(acceleration)</th><th>avg(shot_power)</th></tr>\n",
       "<tr><td>309726</td><td>75.44444444444444</td><td>74.11111111111111</td><td>76.0</td></tr>\n",
       "<tr><td>26112</td><td>53.0</td><td>51.0</td><td>76.0</td></tr>\n",
       "<tr><td>38433</td><td>68.25</td><td>74.0</td><td>74.0</td></tr>\n",
       "<tr><td>295060</td><td>25.0</td><td>62.0</td><td>40.0</td></tr>\n",
       "<tr><td>161396</td><td>29.0</td><td>72.0</td><td>69.0</td></tr>\n",
       "<tr><td>37774</td><td>61.0</td><td>64.0</td><td>68.0</td></tr>\n",
       "<tr><td>41157</td><td>81.0</td><td>87.0</td><td>80.0</td></tr>\n",
       "<tr><td>40740</td><td>58.0</td><td>73.5</td><td>75.0</td></tr>\n",
       "<tr><td>31432</td><td>14.0</td><td>59.0</td><td>65.0</td></tr>\n",
       "<tr><td>109653</td><td>62.0</td><td>65.0</td><td>83.5</td></tr>\n",
       "<tr><td>282680</td><td>12.0</td><td>33.0</td><td>24.0</td></tr>\n",
       "<tr><td>210428</td><td>19.0</td><td>69.0</td><td>55.0</td></tr>\n",
       "<tr><td>190851</td><td>67.0</td><td>74.0</td><td>78.0</td></tr>\n",
       "<tr><td>419238</td><td>23.0</td><td>57.333333333333336</td><td>55.333333333333336</td></tr>\n",
       "<tr><td>664587</td><td>58.0</td><td>74.0</td><td>61.0</td></tr>\n",
       "<tr><td>239352</td><td>63.0</td><td>83.0</td><td>64.0</td></tr>\n",
       "<tr><td>190801</td><td>63.0</td><td>63.75</td><td>56.5</td></tr>\n",
       "<tr><td>196957</td><td>66.0</td><td>76.0</td><td>75.66666666666667</td></tr>\n",
       "<tr><td>173922</td><td>65.0</td><td>78.0</td><td>66.0</td></tr>\n",
       "<tr><td>121080</td><td>36.0</td><td>72.0</td><td>39.0</td></tr>\n",
       "</table>\n",
       "only showing top 20 rows\n"
      ],
      "text/plain": [
       "+-------------+-----------------+------------------+------------------+\n",
       "|player_api_id|   avg(finishing)| avg(acceleration)|   avg(shot_power)|\n",
       "+-------------+-----------------+------------------+------------------+\n",
       "|       309726|75.44444444444444| 74.11111111111111|              76.0|\n",
       "|        26112|             53.0|              51.0|              76.0|\n",
       "|        38433|            68.25|              74.0|              74.0|\n",
       "|       295060|             25.0|              62.0|              40.0|\n",
       "|       161396|             29.0|              72.0|              69.0|\n",
       "|        37774|             61.0|              64.0|              68.0|\n",
       "|        41157|             81.0|              87.0|              80.0|\n",
       "|        40740|             58.0|              73.5|              75.0|\n",
       "|        31432|             14.0|              59.0|              65.0|\n",
       "|       109653|             62.0|              65.0|              83.5|\n",
       "|       282680|             12.0|              33.0|              24.0|\n",
       "|       210428|             19.0|              69.0|              55.0|\n",
       "|       190851|             67.0|              74.0|              78.0|\n",
       "|       419238|             23.0|57.333333333333336|55.333333333333336|\n",
       "|       664587|             58.0|              74.0|              61.0|\n",
       "|       239352|             63.0|              83.0|              64.0|\n",
       "|       190801|             63.0|             63.75|              56.5|\n",
       "|       196957|             66.0|              76.0| 75.66666666666667|\n",
       "|       173922|             65.0|              78.0|              66.0|\n",
       "|       121080|             36.0|              72.0|              39.0|\n",
       "+-------------+-----------------+------------------+------------------+\n",
       "only showing top 20 rows"
      ]
     },
     "execution_count": 33,
     "metadata": {},
     "output_type": "execute_result"
    }
   ],
   "source": [
    "pa_striker_2016"
   ]
  },
  {
   "cell_type": "markdown",
   "metadata": {},
   "source": [
    "Tidy the columns by renaming them. Rename each ```avg(colName)``` to ```colName```"
   ]
  },
  {
   "cell_type": "code",
   "execution_count": 34,
   "metadata": {},
   "outputs": [],
   "source": [
    "# Remove before sharing with students\n",
    "pa_striker_2016 = pa_striker_2016.withColumnRenamed(\"avg(finishing)\",\"finishing\")\\\n",
    "                                 .withColumnRenamed(\"avg(shot_power)\",\"shot_power\")\\\n",
    "                                 .withColumnRenamed(\"avg(acceleration)\",\"acceleration\")"
   ]
  },
  {
   "cell_type": "markdown",
   "metadata": {},
   "source": [
    "#### Find an aggregate score to represent how good a particular player is\n",
    "\n",
    "* Each attribute has a weighing factor\n",
    "* Find a total score for each striker"
   ]
  },
  {
   "cell_type": "code",
   "execution_count": 35,
   "metadata": {},
   "outputs": [],
   "source": [
    "weight_finishing = 1\n",
    "weight_shot_power = 2\n",
    "weight_acceleration = 1\n",
    "\n",
    "total_weight = weight_finishing + weight_shot_power + weight_acceleration"
   ]
  },
  {
   "cell_type": "code",
   "execution_count": 36,
   "metadata": {
    "scrolled": true
   },
   "outputs": [],
   "source": [
    "strikers = pa_striker_2016.withColumn(\"striker_grade\",\n",
    "                                      (pa_striker_2016.finishing * weight_finishing + \\\n",
    "                                       pa_striker_2016.shot_power * weight_shot_power+ \\\n",
    "                                       pa_striker_2016.acceleration * weight_acceleration) / total_weight)"
   ]
  },
  {
   "cell_type": "code",
   "execution_count": 37,
   "metadata": {},
   "outputs": [],
   "source": [
    "strikers = strikers.drop('finishing',\n",
    "                         'acceleration',\n",
    "                         'shot_power'\n",
    ")"
   ]
  },
  {
   "cell_type": "code",
   "execution_count": 39,
   "metadata": {
    "scrolled": true
   },
   "outputs": [
    {
     "name": "stderr",
     "output_type": "stream",
     "text": [
      "                                                                                \r"
     ]
    },
    {
     "data": {
      "text/html": [
       "<table border='1'>\n",
       "<tr><th>player_api_id</th><th>striker_grade</th></tr>\n",
       "<tr><td>20276</td><td>89.25</td></tr>\n",
       "<tr><td>37412</td><td>89.0</td></tr>\n",
       "<tr><td>38817</td><td>88.75</td></tr>\n",
       "<tr><td>32118</td><td>88.25</td></tr>\n",
       "<tr><td>31921</td><td>87.0</td></tr>\n",
       "<tr><td>30834</td><td>86.75</td></tr>\n",
       "<tr><td>303824</td><td>85.10714285714286</td></tr>\n",
       "<tr><td>129944</td><td>85.0</td></tr>\n",
       "<tr><td>150565</td><td>84.75</td></tr>\n",
       "<tr><td>158263</td><td>84.75</td></tr>\n",
       "<tr><td>25759</td><td>84.66666666666667</td></tr>\n",
       "<tr><td>156726</td><td>84.5</td></tr>\n",
       "<tr><td>169193</td><td>84.4375</td></tr>\n",
       "<tr><td>286119</td><td>84.42857142857143</td></tr>\n",
       "<tr><td>30348</td><td>84.375</td></tr>\n",
       "<tr><td>93447</td><td>84.25</td></tr>\n",
       "<tr><td>50047</td><td>84.25</td></tr>\n",
       "<tr><td>46509</td><td>84.25</td></tr>\n",
       "<tr><td>178812</td><td>84.0</td></tr>\n",
       "<tr><td>181276</td><td>84.0</td></tr>\n",
       "</table>\n",
       "only showing top 20 rows\n"
      ],
      "text/plain": [
       "+-------------+-----------------+\n",
       "|player_api_id|    striker_grade|\n",
       "+-------------+-----------------+\n",
       "|        20276|            89.25|\n",
       "|        37412|             89.0|\n",
       "|        38817|            88.75|\n",
       "|        32118|            88.25|\n",
       "|        31921|             87.0|\n",
       "|        30834|            86.75|\n",
       "|       303824|85.10714285714286|\n",
       "|       129944|             85.0|\n",
       "|       150565|            84.75|\n",
       "|       158263|            84.75|\n",
       "|        25759|84.66666666666667|\n",
       "|       156726|             84.5|\n",
       "|       169193|          84.4375|\n",
       "|       286119|84.42857142857143|\n",
       "|        30348|           84.375|\n",
       "|        50047|            84.25|\n",
       "|        93447|            84.25|\n",
       "|        46509|            84.25|\n",
       "|       181276|             84.0|\n",
       "|       178812|             84.0|\n",
       "+-------------+-----------------+\n",
       "only showing top 20 rows"
      ]
     },
     "execution_count": 39,
     "metadata": {},
     "output_type": "execute_result"
    }
   ],
   "source": [
    "strikers = strikers.filter(strikers.striker_grade > 70)\\\n",
    "                   .sort(strikers.striker_grade.desc())\n",
    "    \n",
    "strikers"
   ]
  },
  {
   "cell_type": "markdown",
   "metadata": {},
   "source": [
    "#### Find name and other details of the best strikers\n",
    "\n",
    "* The information is present in the *players* dataframe\n",
    "* Will involve a join operation between *players* and *strikers*"
   ]
  },
  {
   "cell_type": "code",
   "execution_count": 40,
   "metadata": {},
   "outputs": [
    {
     "data": {
      "text/plain": [
       "(1609, 11060)"
      ]
     },
     "execution_count": 40,
     "metadata": {},
     "output_type": "execute_result"
    }
   ],
   "source": [
    "strikers.count(), players.count()"
   ]
  },
  {
   "cell_type": "markdown",
   "metadata": {},
   "source": [
    "#### Joining dataframes"
   ]
  },
  {
   "cell_type": "code",
   "execution_count": 41,
   "metadata": {},
   "outputs": [],
   "source": [
    "striker_details = players.join(strikers, players.player_api_id == strikers.player_api_id)"
   ]
  },
  {
   "cell_type": "code",
   "execution_count": 42,
   "metadata": {},
   "outputs": [
    {
     "data": {
      "text/plain": [
       "['player_api_id',\n",
       " 'player_name',\n",
       " 'birthday',\n",
       " 'height',\n",
       " 'weight',\n",
       " 'player_api_id',\n",
       " 'striker_grade']"
      ]
     },
     "execution_count": 42,
     "metadata": {},
     "output_type": "execute_result"
    }
   ],
   "source": [
    "striker_details.columns"
   ]
  },
  {
   "cell_type": "code",
   "execution_count": 43,
   "metadata": {},
   "outputs": [
    {
     "name": "stderr",
     "output_type": "stream",
     "text": [
      "                                                                                \r"
     ]
    },
    {
     "data": {
      "text/plain": [
       "1609"
      ]
     },
     "execution_count": 43,
     "metadata": {},
     "output_type": "execute_result"
    }
   ],
   "source": [
    "striker_details.count()"
   ]
  },
  {
   "cell_type": "code",
   "execution_count": 44,
   "metadata": {},
   "outputs": [],
   "source": [
    "striker_details = players.join(strikers, ['player_api_id'])"
   ]
  },
  {
   "cell_type": "code",
   "execution_count": 46,
   "metadata": {
    "scrolled": true
   },
   "outputs": [
    {
     "data": {
      "text/html": [
       "<table border='1'>\n",
       "<tr><th>player_api_id</th><th>player_name</th><th>birthday</th><th>height</th><th>weight</th><th>striker_grade</th></tr>\n",
       "<tr><td>309726</td><td>Andrea Belotti</td><td>1993-12-20 00:00:00</td><td>180.34</td><td>159</td><td>75.38888888888889</td></tr>\n",
       "<tr><td>38433</td><td>Borja Valero</td><td>1985-01-12 00:00:00</td><td>175.26</td><td>161</td><td>72.5625</td></tr>\n",
       "<tr><td>41157</td><td>Giovani dos Santos</td><td>1989-05-11 00:00:00</td><td>175.26</td><td>163</td><td>82.0</td></tr>\n",
       "<tr><td>40740</td><td>Jeremy Morel</td><td>1984-04-02 00:00:00</td><td>172.72</td><td>157</td><td>70.375</td></tr>\n",
       "<tr><td>109653</td><td>John Goossens</td><td>1988-07-25 00:00:00</td><td>175.26</td><td>150</td><td>73.5</td></tr>\n",
       "<tr><td>190851</td><td>Kenny McLean</td><td>1992-01-08 00:00:00</td><td>180.34</td><td>154</td><td>74.25</td></tr>\n",
       "<tr><td>196957</td><td>Mihai Alexandru R...</td><td>1992-05-31 00:00:00</td><td>190.5</td><td>176</td><td>73.33333333333334</td></tr>\n",
       "<tr><td>362212</td><td>Piotr Zielinski</td><td>1994-05-20 00:00:00</td><td>180.34</td><td>165</td><td>70.52777777777779</td></tr>\n",
       "<tr><td>26005</td><td>Thomas Vermaelen</td><td>1985-11-14 00:00:00</td><td>182.88</td><td>176</td><td>74.0</td></tr>\n",
       "<tr><td>3517</td><td>Alexandr Kerzhakov</td><td>1982-11-27 00:00:00</td><td>175.26</td><td>168</td><td>78.0</td></tr>\n",
       "<tr><td>562267</td><td>Anwar El-Ghazi</td><td>1995-05-03 00:00:00</td><td>187.96</td><td>192</td><td>79.5</td></tr>\n",
       "<tr><td>163824</td><td>Josue</td><td>1990-09-17 00:00:00</td><td>175.26</td><td>165</td><td>75.45</td></tr>\n",
       "<tr><td>179817</td><td>Marco Paixao</td><td>1984-09-19 00:00:00</td><td>185.42</td><td>174</td><td>70.55</td></tr>\n",
       "<tr><td>43341</td><td>Stefan Daniel Radu</td><td>1986-10-22 00:00:00</td><td>182.88</td><td>174</td><td>71.25</td></tr>\n",
       "<tr><td>388523</td><td>Andre Silva</td><td>1995-11-06 00:00:00</td><td>185.42</td><td>174</td><td>75.08333333333333</td></tr>\n",
       "<tr><td>23949</td><td>Darren Bent</td><td>1984-02-06 00:00:00</td><td>180.34</td><td>161</td><td>77.75</td></tr>\n",
       "<tr><td>210956</td><td>Jesus Corona</td><td>1993-01-06 00:00:00</td><td>172.72</td><td>137</td><td>73.25</td></tr>\n",
       "<tr><td>280653</td><td>Jordon Ibe</td><td>1995-12-08 00:00:00</td><td>175.26</td><td>179</td><td>76.25</td></tr>\n",
       "<tr><td>260470</td><td>Leonardo Bittencourt</td><td>1993-12-19 00:00:00</td><td>170.18</td><td>139</td><td>74.5</td></tr>\n",
       "<tr><td>181425</td><td>Rafael Galhardo</td><td>1991-10-30 00:00:00</td><td>175.26</td><td>154</td><td>74.25</td></tr>\n",
       "</table>\n",
       "only showing top 20 rows\n"
      ],
      "text/plain": [
       "+-------------+--------------------+-------------------+------+------+-----------------+\n",
       "|player_api_id|         player_name|           birthday|height|weight|    striker_grade|\n",
       "+-------------+--------------------+-------------------+------+------+-----------------+\n",
       "|       309726|      Andrea Belotti|1993-12-20 00:00:00|180.34|   159|75.38888888888889|\n",
       "|        38433|        Borja Valero|1985-01-12 00:00:00|175.26|   161|          72.5625|\n",
       "|        41157|  Giovani dos Santos|1989-05-11 00:00:00|175.26|   163|             82.0|\n",
       "|        40740|        Jeremy Morel|1984-04-02 00:00:00|172.72|   157|           70.375|\n",
       "|       109653|       John Goossens|1988-07-25 00:00:00|175.26|   150|             73.5|\n",
       "|       190851|        Kenny McLean|1992-01-08 00:00:00|180.34|   154|            74.25|\n",
       "|       196957|Mihai Alexandru R...|1992-05-31 00:00:00| 190.5|   176|73.33333333333334|\n",
       "|       362212|     Piotr Zielinski|1994-05-20 00:00:00|180.34|   165|70.52777777777779|\n",
       "|        26005|    Thomas Vermaelen|1985-11-14 00:00:00|182.88|   176|             74.0|\n",
       "|         3517|  Alexandr Kerzhakov|1982-11-27 00:00:00|175.26|   168|             78.0|\n",
       "|       562267|      Anwar El-Ghazi|1995-05-03 00:00:00|187.96|   192|             79.5|\n",
       "|       163824|               Josue|1990-09-17 00:00:00|175.26|   165|            75.45|\n",
       "|       179817|        Marco Paixao|1984-09-19 00:00:00|185.42|   174|            70.55|\n",
       "|        43341|  Stefan Daniel Radu|1986-10-22 00:00:00|182.88|   174|            71.25|\n",
       "|       388523|         Andre Silva|1995-11-06 00:00:00|185.42|   174|75.08333333333333|\n",
       "|        23949|         Darren Bent|1984-02-06 00:00:00|180.34|   161|            77.75|\n",
       "|       210956|        Jesus Corona|1993-01-06 00:00:00|172.72|   137|            73.25|\n",
       "|       280653|          Jordon Ibe|1995-12-08 00:00:00|175.26|   179|            76.25|\n",
       "|       260470|Leonardo Bittencourt|1993-12-19 00:00:00|170.18|   139|             74.5|\n",
       "|       181425|     Rafael Galhardo|1991-10-30 00:00:00|175.26|   154|            74.25|\n",
       "+-------------+--------------------+-------------------+------+------+-----------------+\n",
       "only showing top 20 rows"
      ]
     },
     "execution_count": 46,
     "metadata": {},
     "output_type": "execute_result"
    }
   ],
   "source": [
    "striker_details"
   ]
  },
  {
   "cell_type": "markdown",
   "metadata": {},
   "source": [
    "### Broadcast & Join\n",
    "\n",
    "* Broadcast the smaller dataframe so it is available on all cluster machines\n",
    "* The data should be small enough so it is held in memory\n",
    "* All nodes in the cluster distribute the data as fast as they can so overall computation is faster"
   ]
  },
  {
   "cell_type": "code",
   "execution_count": 47,
   "metadata": {},
   "outputs": [],
   "source": [
    "from pyspark.sql.functions import broadcast"
   ]
  },
  {
   "cell_type": "code",
   "execution_count": 48,
   "metadata": {
    "scrolled": true
   },
   "outputs": [],
   "source": [
    "striker_details = players.select(\n",
    "                                \"player_api_id\",\n",
    "                                \"player_name\"\n",
    "                                 )\\\n",
    "                  .join(\n",
    "                        broadcast(strikers), \n",
    "                        ['player_api_id'],   \n",
    "                        'inner'\n",
    "                  )"
   ]
  },
  {
   "cell_type": "code",
   "execution_count": 49,
   "metadata": {},
   "outputs": [],
   "source": [
    "striker_details = striker_details.sort(striker_details.striker_grade.desc())"
   ]
  },
  {
   "cell_type": "code",
   "execution_count": 50,
   "metadata": {
    "scrolled": true
   },
   "outputs": [
    {
     "name": "stderr",
     "output_type": "stream",
     "text": [
      "                                                                                \r"
     ]
    },
    {
     "data": {
      "text/html": [
       "<table border='1'>\n",
       "<tr><th>player_api_id</th><th>player_name</th><th>striker_grade</th></tr>\n",
       "<tr><td>20276</td><td>Hulk</td><td>89.25</td></tr>\n",
       "<tr><td>37412</td><td>Sergio Aguero</td><td>89.0</td></tr>\n",
       "<tr><td>38817</td><td>Carlos Tevez</td><td>88.75</td></tr>\n",
       "<tr><td>32118</td><td>Lukas Podolski</td><td>88.25</td></tr>\n",
       "<tr><td>31921</td><td>Gareth Bale</td><td>87.0</td></tr>\n",
       "<tr><td>30834</td><td>Arjen Robben</td><td>86.75</td></tr>\n",
       "<tr><td>303824</td><td>Memphis Depay</td><td>85.10714285714286</td></tr>\n",
       "<tr><td>129944</td><td>Marco Reus</td><td>85.0</td></tr>\n",
       "<tr><td>158263</td><td>Dorlan Pabon</td><td>84.75</td></tr>\n",
       "<tr><td>150565</td><td>Pierre-Emerick Au...</td><td>84.75</td></tr>\n",
       "<tr><td>25759</td><td>Gonzalo Higuain</td><td>84.66666666666667</td></tr>\n",
       "<tr><td>156726</td><td>Douglas Costa</td><td>84.5</td></tr>\n",
       "<tr><td>169193</td><td>Alexandre Lacazette</td><td>84.4375</td></tr>\n",
       "<tr><td>286119</td><td>Jamie Vardy</td><td>84.42857142857143</td></tr>\n",
       "<tr><td>30348</td><td>Jermain Defoe</td><td>84.375</td></tr>\n",
       "<tr><td>46509</td><td>Angel Di Maria</td><td>84.25</td></tr>\n",
       "<tr><td>93447</td><td>Robert Lewandowski</td><td>84.25</td></tr>\n",
       "<tr><td>50047</td><td>Alexis Sanchez</td><td>84.25</td></tr>\n",
       "<tr><td>178812</td><td>Andre Schuerrle</td><td>84.0</td></tr>\n",
       "<tr><td>181276</td><td>Romelu Lukaku</td><td>84.0</td></tr>\n",
       "</table>\n",
       "only showing top 20 rows\n"
      ],
      "text/plain": [
       "+-------------+--------------------+-----------------+\n",
       "|player_api_id|         player_name|    striker_grade|\n",
       "+-------------+--------------------+-----------------+\n",
       "|        20276|                Hulk|            89.25|\n",
       "|        37412|       Sergio Aguero|             89.0|\n",
       "|        38817|        Carlos Tevez|            88.75|\n",
       "|        32118|      Lukas Podolski|            88.25|\n",
       "|        31921|         Gareth Bale|             87.0|\n",
       "|        30834|        Arjen Robben|            86.75|\n",
       "|       303824|       Memphis Depay|85.10714285714286|\n",
       "|       129944|          Marco Reus|             85.0|\n",
       "|       158263|        Dorlan Pabon|            84.75|\n",
       "|       150565|Pierre-Emerick Au...|            84.75|\n",
       "|        25759|     Gonzalo Higuain|84.66666666666667|\n",
       "|       156726|       Douglas Costa|             84.5|\n",
       "|       169193| Alexandre Lacazette|          84.4375|\n",
       "|       286119|         Jamie Vardy|84.42857142857143|\n",
       "|        30348|       Jermain Defoe|           84.375|\n",
       "|        46509|      Angel Di Maria|            84.25|\n",
       "|        93447|  Robert Lewandowski|            84.25|\n",
       "|        50047|      Alexis Sanchez|            84.25|\n",
       "|       178812|     Andre Schuerrle|             84.0|\n",
       "|       181276|       Romelu Lukaku|             84.0|\n",
       "+-------------+--------------------+-----------------+\n",
       "only showing top 20 rows"
      ]
     },
     "execution_count": 50,
     "metadata": {},
     "output_type": "execute_result"
    }
   ],
   "source": [
    "striker_details"
   ]
  },
  {
   "cell_type": "markdown",
   "metadata": {},
   "source": [
    "### Accumulators\n",
    "\n",
    "* Shared variables which are updated by processes running across multiple nodes"
   ]
  },
  {
   "cell_type": "code",
   "execution_count": 51,
   "metadata": {},
   "outputs": [
    {
     "data": {
      "text/plain": [
       "(11060, 181265)"
      ]
     },
     "execution_count": 51,
     "metadata": {},
     "output_type": "execute_result"
    }
   ],
   "source": [
    "players.count(), player_attributes.count()"
   ]
  },
  {
   "cell_type": "code",
   "execution_count": 52,
   "metadata": {},
   "outputs": [],
   "source": [
    "players_heading_acc = player_attributes.select('player_api_id',\n",
    "                                               'heading_accuracy')\\\n",
    "                                       .join(broadcast(players),\n",
    "                                             player_attributes.player_api_id == players.player_api_id)"
   ]
  },
  {
   "cell_type": "code",
   "execution_count": 53,
   "metadata": {},
   "outputs": [
    {
     "data": {
      "text/plain": [
       "['player_api_id',\n",
       " 'heading_accuracy',\n",
       " 'player_api_id',\n",
       " 'player_name',\n",
       " 'birthday',\n",
       " 'height',\n",
       " 'weight']"
      ]
     },
     "execution_count": 53,
     "metadata": {},
     "output_type": "execute_result"
    }
   ],
   "source": [
    "players_heading_acc.columns"
   ]
  },
  {
   "cell_type": "markdown",
   "metadata": {},
   "source": [
    "#### Get player counts by height"
   ]
  },
  {
   "cell_type": "code",
   "execution_count": 54,
   "metadata": {},
   "outputs": [],
   "source": [
    "short_count = spark.sparkContext.accumulator(0)\n",
    "medium_low_count = spark.sparkContext.accumulator(0)\n",
    "medium_high_count = spark.sparkContext.accumulator(0)\n",
    "tall_count = spark.sparkContext.accumulator(0)"
   ]
  },
  {
   "cell_type": "code",
   "execution_count": 55,
   "metadata": {},
   "outputs": [],
   "source": [
    "def count_players_by_height(row):\n",
    "    height = float(row.height)\n",
    "    \n",
    "    if (height <= 175 ):\n",
    "        short_count.add(1)\n",
    "    elif (height <= 183 and height > 175 ):\n",
    "        medium_low_count.add(1)\n",
    "    elif (height <= 195 and height > 183 ):\n",
    "        medium_high_count.add(1)\n",
    "    elif (height > 195) :\n",
    "        tall_count.add(1)"
   ]
  },
  {
   "cell_type": "code",
   "execution_count": 56,
   "metadata": {},
   "outputs": [],
   "source": [
    "players_heading_acc.foreach(lambda x: count_players_by_height(x))"
   ]
  },
  {
   "cell_type": "code",
   "execution_count": 57,
   "metadata": {},
   "outputs": [
    {
     "data": {
      "text/plain": [
       "[18977, 97399, 61518, 3371]"
      ]
     },
     "execution_count": 57,
     "metadata": {},
     "output_type": "execute_result"
    }
   ],
   "source": [
    "all_players = [short_count.value,\n",
    "               medium_low_count.value,\n",
    "               medium_high_count.value,\n",
    "               tall_count.value]\n",
    "\n",
    "all_players"
   ]
  },
  {
   "cell_type": "markdown",
   "metadata": {},
   "source": [
    "#### Find the players who have the best heading accuracy\n",
    "\n",
    "* Count players who have a heading accuracy above the threshold\n",
    "* Bucket them by height"
   ]
  },
  {
   "cell_type": "code",
   "execution_count": 58,
   "metadata": {},
   "outputs": [],
   "source": [
    "short_ha_count = spark.sparkContext.accumulator(0)\n",
    "medium_low_ha_count = spark.sparkContext.accumulator(0)\n",
    "medium_high_ha_count = spark.sparkContext.accumulator(0)\n",
    "tall_ha_count = spark.sparkContext.accumulator(0)"
   ]
  },
  {
   "cell_type": "code",
   "execution_count": 59,
   "metadata": {},
   "outputs": [],
   "source": [
    "def count_players_by_height_and_heading_accuracy(row, threshold_score):\n",
    "    \n",
    "    height = float(row.height)\n",
    "    ha = float(row.heading_accuracy)\n",
    "    \n",
    "    if ha <= threshold_score:\n",
    "        return\n",
    "    \n",
    "    if (height <= 175 ):\n",
    "        short_ha_count.add(1)\n",
    "    elif (height <= 183 and height > 175):\n",
    "        medium_low_ha_count.add(1)\n",
    "    elif (height <= 195 and height > 183):\n",
    "        medium_high_ha_count.add(1)\n",
    "    elif (height > 195) :\n",
    "        tall_ha_count.add(1)        "
   ]
  },
  {
   "cell_type": "code",
   "execution_count": 60,
   "metadata": {},
   "outputs": [],
   "source": [
    "players_heading_acc.foreach(lambda x: count_players_by_height_and_heading_accuracy(x, 60))"
   ]
  },
  {
   "cell_type": "code",
   "execution_count": 61,
   "metadata": {},
   "outputs": [
    {
     "data": {
      "text/plain": [
       "[3653, 41448, 40270, 1573]"
      ]
     },
     "execution_count": 61,
     "metadata": {},
     "output_type": "execute_result"
    }
   ],
   "source": [
    "all_players_above_threshold = [short_ha_count.value,\n",
    "                               medium_low_ha_count.value,\n",
    "                               medium_high_ha_count.value,\n",
    "                               tall_ha_count.value]\n",
    "\n",
    "all_players_above_threshold"
   ]
  },
  {
   "cell_type": "markdown",
   "metadata": {},
   "source": [
    "#### Convert to percentages \n",
    "\n",
    "* % of players above the threshold heading accuracy for each height bucket"
   ]
  },
  {
   "cell_type": "code",
   "execution_count": 62,
   "metadata": {},
   "outputs": [
    {
     "data": {
      "text/plain": [
       "[19.249617958581442, 42.55485169252251, 65.46051562144413, 46.66271136161376]"
      ]
     },
     "execution_count": 62,
     "metadata": {},
     "output_type": "execute_result"
    }
   ],
   "source": [
    "percentage_values = [short_ha_count.value / short_count.value *100,\n",
    "                     medium_low_ha_count.value / medium_low_count.value *100,\n",
    "                     medium_high_ha_count.value / medium_high_count.value *100,\n",
    "                     tall_ha_count.value / tall_count.value *100\n",
    "                    ]\n",
    "\n",
    "percentage_values"
   ]
  },
  {
   "cell_type": "markdown",
   "metadata": {},
   "source": [
    "#### Custom accumulator"
   ]
  },
  {
   "cell_type": "code",
   "execution_count": 63,
   "metadata": {},
   "outputs": [],
   "source": [
    "from pyspark.accumulators import AccumulatorParam\n",
    "\n",
    "class VectorAccumulatorParam(AccumulatorParam):\n",
    "    \n",
    "    def zero(self, value):\n",
    "        return [0.0] * len(value)\n",
    "\n",
    "    def addInPlace(self, v1, v2):\n",
    "        for i in range(len(v1)):\n",
    "            v1[i] += v2[i]\n",
    "        \n",
    "        return v1"
   ]
  },
  {
   "cell_type": "code",
   "execution_count": 69,
   "metadata": {},
   "outputs": [],
   "source": [
    "sc = spark.sparkContext"
   ]
  },
  {
   "cell_type": "code",
   "execution_count": null,
   "metadata": {},
   "outputs": [],
   "source": []
  },
  {
   "cell_type": "code",
   "execution_count": 70,
   "metadata": {},
   "outputs": [
    {
     "data": {
      "text/plain": [
       "[10.0, 20.0, 30.0]"
      ]
     },
     "execution_count": 70,
     "metadata": {},
     "output_type": "execute_result"
    }
   ],
   "source": [
    "vector_accum = sc.accumulator([10.0, 20.0, 30.0], VectorAccumulatorParam())\n",
    "\n",
    "vector_accum.value"
   ]
  },
  {
   "cell_type": "code",
   "execution_count": 71,
   "metadata": {},
   "outputs": [
    {
     "data": {
      "text/plain": [
       "[11.0, 22.0, 33.0]"
      ]
     },
     "execution_count": 71,
     "metadata": {},
     "output_type": "execute_result"
    }
   ],
   "source": [
    "vector_accum += [1, 2, 3]\n",
    "\n",
    "vector_accum.value"
   ]
  },
  {
   "cell_type": "markdown",
   "metadata": {},
   "source": [
    "#### Save data to file"
   ]
  },
  {
   "cell_type": "code",
   "execution_count": 72,
   "metadata": {},
   "outputs": [
    {
     "data": {
      "text/plain": [
       "['player_api_id',\n",
       " 'overall_rating',\n",
       " 'finishing',\n",
       " 'heading_accuracy',\n",
       " 'volleys',\n",
       " 'dribbling',\n",
       " 'curve',\n",
       " 'free_kick_accuracy',\n",
       " 'long_passing',\n",
       " 'ball_control',\n",
       " 'acceleration',\n",
       " 'agility',\n",
       " 'reactions',\n",
       " 'shot_power',\n",
       " 'stamina',\n",
       " 'strength',\n",
       " 'long_shots',\n",
       " 'interceptions',\n",
       " 'positioning',\n",
       " 'vision',\n",
       " 'penalties',\n",
       " 'marking',\n",
       " 'standing_tackle',\n",
       " 'sliding_tackle',\n",
       " 'gk_diving',\n",
       " 'gk_handling',\n",
       " 'gk_kicking',\n",
       " 'gk_positioning',\n",
       " 'gk_reflexes',\n",
       " 'year',\n",
       " 'year2']"
      ]
     },
     "execution_count": 72,
     "metadata": {},
     "output_type": "execute_result"
    }
   ],
   "source": [
    "pa_2016.columns"
   ]
  },
  {
   "cell_type": "markdown",
   "metadata": {},
   "source": [
    "#### Save the dataframe to a file"
   ]
  },
  {
   "cell_type": "code",
   "execution_count": 101,
   "metadata": {},
   "outputs": [],
   "source": [
    "pa_2016.select(\"player_api_id\", \"overall_rating\")\\\n",
    "    .coalesce(1)\\\n",
    "    .write\\\n",
    "    .option(\"header\", \"true\")\\\n",
    "    .csv(\"data/players_overall.csv\")"
   ]
  },
  {
   "cell_type": "code",
   "execution_count": 102,
   "metadata": {},
   "outputs": [],
   "source": [
    "pa_2016.select(\"player_api_id\", \"overall_rating\")\\\n",
    "    .write\\\n",
    "    .json(\"players_overall.json\")"
   ]
  },
  {
   "cell_type": "code",
   "execution_count": null,
   "metadata": {},
   "outputs": [],
   "source": []
  },
  {
   "cell_type": "code",
   "execution_count": null,
   "metadata": {},
   "outputs": [],
   "source": []
  },
  {
   "cell_type": "code",
   "execution_count": null,
   "metadata": {},
   "outputs": [],
   "source": []
  },
  {
   "cell_type": "code",
   "execution_count": null,
   "metadata": {},
   "outputs": [],
   "source": []
  },
  {
   "cell_type": "code",
   "execution_count": null,
   "metadata": {},
   "outputs": [],
   "source": []
  },
  {
   "cell_type": "code",
   "execution_count": null,
   "metadata": {},
   "outputs": [],
   "source": []
  },
  {
   "cell_type": "code",
   "execution_count": null,
   "metadata": {},
   "outputs": [],
   "source": []
  },
  {
   "cell_type": "code",
   "execution_count": null,
   "metadata": {},
   "outputs": [],
   "source": []
  },
  {
   "cell_type": "code",
   "execution_count": null,
   "metadata": {},
   "outputs": [],
   "source": []
  }
 ],
 "metadata": {
  "kernelspec": {
   "display_name": "Python 3 (ipykernel)",
   "language": "python",
   "name": "python3"
  },
  "language_info": {
   "codemirror_mode": {
    "name": "ipython",
    "version": 3
   },
   "file_extension": ".py",
   "mimetype": "text/x-python",
   "name": "python",
   "nbconvert_exporter": "python",
   "pygments_lexer": "ipython3",
   "version": "3.9.2"
  }
 },
 "nbformat": 4,
 "nbformat_minor": 4
}
