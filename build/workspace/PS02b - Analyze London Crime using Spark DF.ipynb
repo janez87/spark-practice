{
 "cells": [
  {
   "cell_type": "markdown",
   "metadata": {},
   "source": [
    "# Lab 4: Spark Dataframes and SQL (Part I)"
   ]
  },
  {
   "cell_type": "markdown",
   "metadata": {},
   "source": [
    "In this lab we are practicing data transformation and processing using Spark Dataframe and SQL APIs.\n",
    "In the first part, we practice using the London crime data set. We start by loading the data from the file system and how withe a few options we tell Spark the nature of the data and its storage format and how Spark tries to automatically infer a schema for the data, something that would have required explicit transformations using low-level Spark RDDS.\n",
    "\n",
    "We practice data cleaning by dropping rows with empty cells, unwanted columns. Next, we show a limited number of records, select unique values of a specific column, do aggregation overall the data or by a specific attribute(s), etc. We utilize the richset of DF APIs to try aggregation, sampling, filtering, projection and so on.\n",
    "\n",
    "In the second part, we will play with another data set about soccer players. Here, will use SQL and practice the joining of data sets."
   ]
  },
  {
   "cell_type": "markdown",
   "metadata": {},
   "source": [
    "### Analyzing London crime statistics"
   ]
  },
  {
   "cell_type": "code",
   "execution_count": null,
   "metadata": {},
   "outputs": [],
   "source": [
    "%matplotlib inline\n",
    "import matplotlib.pyplot as plt\n",
    "plt.style.use('ggplot')"
   ]
  },
  {
   "cell_type": "markdown",
   "metadata": {},
   "source": [
    "#### Creating a Spark session\n",
    "\n",
    "* Encapsulates SparkContext and the SQLContext within it"
   ]
  },
  {
   "cell_type": "code",
   "execution_count": 4,
   "metadata": {},
   "outputs": [
    {
     "name": "stderr",
     "output_type": "stream",
     "text": [
      "22/09/19 21:51:23 WARN NativeCodeLoader: Unable to load native-hadoop library for your platform... using builtin-java classes where applicable\n",
      "Using Spark's default log4j profile: org/apache/spark/log4j-defaults.properties\n",
      "Setting default log level to \"WARN\".\n",
      "To adjust logging level use sc.setLogLevel(newLevel). For SparkR, use setLogLevel(newLevel).\n",
      "22/09/19 21:51:24 WARN Utils: Service 'SparkUI' could not bind on port 4040. Attempting port 4041.\n",
      "22/09/19 21:51:24 WARN Utils: Service 'SparkUI' could not bind on port 4041. Attempting port 4042.\n"
     ]
    }
   ],
   "source": [
    "from pyspark.sql import SparkSession\n",
    "\n",
    "spark = SparkSession \\\n",
    "    .builder \\\n",
    "    .appName(\"Analyzing London crime data\") \\\n",
    "    .master('spark://spark-master:7077') \\\n",
    "    .config(\"spark.sql.repl.eagerEval.enabled\", True) \\\n",
    "    .getOrCreate()"
   ]
  },
  {
   "cell_type": "code",
   "execution_count": 5,
   "metadata": {},
   "outputs": [
    {
     "data": {
      "text/html": [
       "\n",
       "            <div>\n",
       "                <p><b>SparkSession - in-memory</b></p>\n",
       "                \n",
       "        <div>\n",
       "            <p><b>SparkContext</b></p>\n",
       "\n",
       "            <p><a href=\"http://cc2e5c192d97:4042\">Spark UI</a></p>\n",
       "\n",
       "            <dl>\n",
       "              <dt>Version</dt>\n",
       "                <dd><code>v3.0.0</code></dd>\n",
       "              <dt>Master</dt>\n",
       "                <dd><code>spark://spark-master:7077</code></dd>\n",
       "              <dt>AppName</dt>\n",
       "                <dd><code>Analyzing London crime data</code></dd>\n",
       "            </dl>\n",
       "        </div>\n",
       "        \n",
       "            </div>\n",
       "        "
      ],
      "text/plain": [
       "<pyspark.sql.session.SparkSession at 0x7f5cf5f61b50>"
      ]
     },
     "execution_count": 5,
     "metadata": {},
     "output_type": "execute_result"
    }
   ],
   "source": [
    "spark"
   ]
  },
  {
   "cell_type": "markdown",
   "metadata": {},
   "source": [
    "#### Reading external data as a dataframe\n",
    "We need to load the d|ata from disk. The data is stored as CSV file. With simple instructions, we tell Spark that the data is in CSV and has a header row. The header row is used by Spark to infer the data schema."
   ]
  },
  {
   "cell_type": "markdown",
   "metadata": {},
   "source": [
    "If necessary, unzip london_crime_by_lsoa.zip "
   ]
  },
  {
   "cell_type": "code",
   "execution_count": 6,
   "metadata": {},
   "outputs": [
    {
     "name": "stderr",
     "output_type": "stream",
     "text": [
      "22/09/19 21:53:25 WARN TaskSchedulerImpl: Initial job has not accepted any resources; check your cluster UI to ensure that workers are registered and have sufficient resources\n",
      "                                                                                \r"
     ]
    }
   ],
   "source": [
    "data = spark.read\\\n",
    "            .format(\"csv\")\\\n",
    "            .option(\"header\", \"true\")\\\n",
    "            .load(\"data/london_crime_by_lsoa.csv\")"
   ]
  },
  {
   "cell_type": "code",
   "execution_count": 7,
   "metadata": {},
   "outputs": [
    {
     "name": "stdout",
     "output_type": "stream",
     "text": [
      "root\n",
      " |-- lsoa_code: string (nullable = true)\n",
      " |-- borough: string (nullable = true)\n",
      " |-- major_category: string (nullable = true)\n",
      " |-- minor_category: string (nullable = true)\n",
      " |-- value: string (nullable = true)\n",
      " |-- year: string (nullable = true)\n",
      " |-- month: string (nullable = true)\n",
      "\n"
     ]
    }
   ],
   "source": [
    "data.printSchema()"
   ]
  },
  {
   "cell_type": "markdown",
   "metadata": {},
   "source": [
    "What is the length(count) of data?"
   ]
  },
  {
   "cell_type": "code",
   "execution_count": 8,
   "metadata": {},
   "outputs": [
    {
     "name": "stderr",
     "output_type": "stream",
     "text": [
      "                                                                                \r"
     ]
    },
    {
     "data": {
      "text/plain": [
       "13490604"
      ]
     },
     "execution_count": 8,
     "metadata": {},
     "output_type": "execute_result"
    }
   ],
   "source": [
    "#Code here\n",
    "# Remove before sharing with students\n",
    "data.count()"
   ]
  },
  {
   "cell_type": "markdown",
   "metadata": {},
   "source": [
    "Show just five records from the data set"
   ]
  },
  {
   "cell_type": "code",
   "execution_count": 9,
   "metadata": {},
   "outputs": [
    {
     "data": {
      "text/html": [
       "<table border='1'>\n",
       "<tr><th>lsoa_code</th><th>borough</th><th>major_category</th><th>minor_category</th><th>value</th><th>year</th><th>month</th></tr>\n",
       "<tr><td>E01001116</td><td>Croydon</td><td>Burglary</td><td>Burglary in Other...</td><td>0</td><td>2016</td><td>11</td></tr>\n",
       "<tr><td>E01001646</td><td>Greenwich</td><td>Violence Against ...</td><td>Other violence</td><td>0</td><td>2016</td><td>11</td></tr>\n",
       "<tr><td>E01000677</td><td>Bromley</td><td>Violence Against ...</td><td>Other violence</td><td>0</td><td>2015</td><td>5</td></tr>\n",
       "<tr><td>E01003774</td><td>Redbridge</td><td>Burglary</td><td>Burglary in Other...</td><td>0</td><td>2016</td><td>3</td></tr>\n",
       "<tr><td>E01004563</td><td>Wandsworth</td><td>Robbery</td><td>Personal Property</td><td>0</td><td>2008</td><td>6</td></tr>\n",
       "<tr><td>E01001320</td><td>Ealing</td><td>Theft and Handling</td><td>Other Theft</td><td>0</td><td>2012</td><td>5</td></tr>\n",
       "<tr><td>E01001342</td><td>Ealing</td><td>Violence Against ...</td><td>Offensive Weapon</td><td>0</td><td>2010</td><td>7</td></tr>\n",
       "<tr><td>E01002633</td><td>Hounslow</td><td>Robbery</td><td>Personal Property</td><td>0</td><td>2013</td><td>4</td></tr>\n",
       "<tr><td>E01003496</td><td>Newham</td><td>Criminal Damage</td><td>Criminal Damage T...</td><td>0</td><td>2013</td><td>9</td></tr>\n",
       "<tr><td>E01004177</td><td>Sutton</td><td>Theft and Handling</td><td>Theft/Taking of P...</td><td>1</td><td>2016</td><td>8</td></tr>\n",
       "<tr><td>E01001985</td><td>Haringey</td><td>Theft and Handling</td><td>Motor Vehicle Int...</td><td>0</td><td>2013</td><td>12</td></tr>\n",
       "<tr><td>E01003076</td><td>Lambeth</td><td>Violence Against ...</td><td>Other violence</td><td>0</td><td>2015</td><td>4</td></tr>\n",
       "<tr><td>E01003852</td><td>Richmond upon Thames</td><td>Robbery</td><td>Personal Property</td><td>0</td><td>2014</td><td>1</td></tr>\n",
       "<tr><td>E01004547</td><td>Wandsworth</td><td>Violence Against ...</td><td>Offensive Weapon</td><td>0</td><td>2011</td><td>10</td></tr>\n",
       "<tr><td>E01002398</td><td>Hillingdon</td><td>Theft and Handling</td><td>Theft/Taking Of M...</td><td>0</td><td>2016</td><td>2</td></tr>\n",
       "<tr><td>E01002358</td><td>Havering</td><td>Violence Against ...</td><td>Wounding/GBH</td><td>0</td><td>2012</td><td>2</td></tr>\n",
       "<tr><td>E01000086</td><td>Barking and Dagenham</td><td>Theft and Handling</td><td>Other Theft Person</td><td>1</td><td>2009</td><td>5</td></tr>\n",
       "<tr><td>E01003708</td><td>Redbridge</td><td>Violence Against ...</td><td>Common Assault</td><td>0</td><td>2009</td><td>6</td></tr>\n",
       "<tr><td>E01002945</td><td>Kingston upon Thames</td><td>Theft and Handling</td><td>Theft From Shops</td><td>0</td><td>2016</td><td>11</td></tr>\n",
       "<tr><td>E01004195</td><td>Sutton</td><td>Drugs</td><td>Possession Of Drugs</td><td>0</td><td>2009</td><td>10</td></tr>\n",
       "</table>\n",
       "only showing top 20 rows\n"
      ],
      "text/plain": [
       "+---------+--------------------+--------------------+--------------------+-----+----+-----+\n",
       "|lsoa_code|             borough|      major_category|      minor_category|value|year|month|\n",
       "+---------+--------------------+--------------------+--------------------+-----+----+-----+\n",
       "|E01001116|             Croydon|            Burglary|Burglary in Other...|    0|2016|   11|\n",
       "|E01001646|           Greenwich|Violence Against ...|      Other violence|    0|2016|   11|\n",
       "|E01000677|             Bromley|Violence Against ...|      Other violence|    0|2015|    5|\n",
       "|E01003774|           Redbridge|            Burglary|Burglary in Other...|    0|2016|    3|\n",
       "|E01004563|          Wandsworth|             Robbery|   Personal Property|    0|2008|    6|\n",
       "|E01001320|              Ealing|  Theft and Handling|         Other Theft|    0|2012|    5|\n",
       "|E01001342|              Ealing|Violence Against ...|    Offensive Weapon|    0|2010|    7|\n",
       "|E01002633|            Hounslow|             Robbery|   Personal Property|    0|2013|    4|\n",
       "|E01003496|              Newham|     Criminal Damage|Criminal Damage T...|    0|2013|    9|\n",
       "|E01004177|              Sutton|  Theft and Handling|Theft/Taking of P...|    1|2016|    8|\n",
       "|E01001985|            Haringey|  Theft and Handling|Motor Vehicle Int...|    0|2013|   12|\n",
       "|E01003076|             Lambeth|Violence Against ...|      Other violence|    0|2015|    4|\n",
       "|E01003852|Richmond upon Thames|             Robbery|   Personal Property|    0|2014|    1|\n",
       "|E01004547|          Wandsworth|Violence Against ...|    Offensive Weapon|    0|2011|   10|\n",
       "|E01002398|          Hillingdon|  Theft and Handling|Theft/Taking Of M...|    0|2016|    2|\n",
       "|E01002358|            Havering|Violence Against ...|        Wounding/GBH|    0|2012|    2|\n",
       "|E01000086|Barking and Dagenham|  Theft and Handling|  Other Theft Person|    1|2009|    5|\n",
       "|E01003708|           Redbridge|Violence Against ...|      Common Assault|    0|2009|    6|\n",
       "|E01002945|Kingston upon Thames|  Theft and Handling|    Theft From Shops|    0|2016|   11|\n",
       "|E01004195|              Sutton|               Drugs| Possession Of Drugs|    0|2009|   10|\n",
       "+---------+--------------------+--------------------+--------------------+-----+----+-----+\n",
       "only showing top 20 rows"
      ]
     },
     "execution_count": 9,
     "metadata": {},
     "output_type": "execute_result"
    }
   ],
   "source": [
    "#Remove before sharing with students\n",
    "data"
   ]
  },
  {
   "cell_type": "markdown",
   "metadata": {},
   "source": [
    "#### Cleaning data\n",
    "* Drop rows which have null (empty) values\n",
    "* Drop columns which we do not use in our analysis(lsoa_code column)"
   ]
  },
  {
   "cell_type": "code",
   "execution_count": 6,
   "metadata": {},
   "outputs": [
    {
     "data": {
      "text/plain": [
       "DataFrame[lsoa_code: string, borough: string, major_category: string, minor_category: string, value: string, year: string, month: string]"
      ]
     },
     "execution_count": 6,
     "metadata": {},
     "output_type": "execute_result"
    }
   ],
   "source": [
    "#code here\n",
    "#Remove before sharing with students\n",
    "data.dropna()"
   ]
  },
  {
   "cell_type": "code",
   "execution_count": 10,
   "metadata": {},
   "outputs": [
    {
     "data": {
      "text/html": [
       "<table border='1'>\n",
       "<tr><th>borough</th><th>major_category</th><th>minor_category</th><th>value</th><th>year</th><th>month</th></tr>\n",
       "<tr><td>Croydon</td><td>Burglary</td><td>Burglary in Other...</td><td>0</td><td>2016</td><td>11</td></tr>\n",
       "<tr><td>Greenwich</td><td>Violence Against ...</td><td>Other violence</td><td>0</td><td>2016</td><td>11</td></tr>\n",
       "<tr><td>Bromley</td><td>Violence Against ...</td><td>Other violence</td><td>0</td><td>2015</td><td>5</td></tr>\n",
       "<tr><td>Redbridge</td><td>Burglary</td><td>Burglary in Other...</td><td>0</td><td>2016</td><td>3</td></tr>\n",
       "<tr><td>Wandsworth</td><td>Robbery</td><td>Personal Property</td><td>0</td><td>2008</td><td>6</td></tr>\n",
       "<tr><td>Ealing</td><td>Theft and Handling</td><td>Other Theft</td><td>0</td><td>2012</td><td>5</td></tr>\n",
       "<tr><td>Ealing</td><td>Violence Against ...</td><td>Offensive Weapon</td><td>0</td><td>2010</td><td>7</td></tr>\n",
       "<tr><td>Hounslow</td><td>Robbery</td><td>Personal Property</td><td>0</td><td>2013</td><td>4</td></tr>\n",
       "<tr><td>Newham</td><td>Criminal Damage</td><td>Criminal Damage T...</td><td>0</td><td>2013</td><td>9</td></tr>\n",
       "<tr><td>Sutton</td><td>Theft and Handling</td><td>Theft/Taking of P...</td><td>1</td><td>2016</td><td>8</td></tr>\n",
       "<tr><td>Haringey</td><td>Theft and Handling</td><td>Motor Vehicle Int...</td><td>0</td><td>2013</td><td>12</td></tr>\n",
       "<tr><td>Lambeth</td><td>Violence Against ...</td><td>Other violence</td><td>0</td><td>2015</td><td>4</td></tr>\n",
       "<tr><td>Richmond upon Thames</td><td>Robbery</td><td>Personal Property</td><td>0</td><td>2014</td><td>1</td></tr>\n",
       "<tr><td>Wandsworth</td><td>Violence Against ...</td><td>Offensive Weapon</td><td>0</td><td>2011</td><td>10</td></tr>\n",
       "<tr><td>Hillingdon</td><td>Theft and Handling</td><td>Theft/Taking Of M...</td><td>0</td><td>2016</td><td>2</td></tr>\n",
       "<tr><td>Havering</td><td>Violence Against ...</td><td>Wounding/GBH</td><td>0</td><td>2012</td><td>2</td></tr>\n",
       "<tr><td>Barking and Dagenham</td><td>Theft and Handling</td><td>Other Theft Person</td><td>1</td><td>2009</td><td>5</td></tr>\n",
       "<tr><td>Redbridge</td><td>Violence Against ...</td><td>Common Assault</td><td>0</td><td>2009</td><td>6</td></tr>\n",
       "<tr><td>Kingston upon Thames</td><td>Theft and Handling</td><td>Theft From Shops</td><td>0</td><td>2016</td><td>11</td></tr>\n",
       "<tr><td>Sutton</td><td>Drugs</td><td>Possession Of Drugs</td><td>0</td><td>2009</td><td>10</td></tr>\n",
       "</table>\n",
       "only showing top 20 rows\n"
      ],
      "text/plain": [
       "+--------------------+--------------------+--------------------+-----+----+-----+\n",
       "|             borough|      major_category|      minor_category|value|year|month|\n",
       "+--------------------+--------------------+--------------------+-----+----+-----+\n",
       "|             Croydon|            Burglary|Burglary in Other...|    0|2016|   11|\n",
       "|           Greenwich|Violence Against ...|      Other violence|    0|2016|   11|\n",
       "|             Bromley|Violence Against ...|      Other violence|    0|2015|    5|\n",
       "|           Redbridge|            Burglary|Burglary in Other...|    0|2016|    3|\n",
       "|          Wandsworth|             Robbery|   Personal Property|    0|2008|    6|\n",
       "|              Ealing|  Theft and Handling|         Other Theft|    0|2012|    5|\n",
       "|              Ealing|Violence Against ...|    Offensive Weapon|    0|2010|    7|\n",
       "|            Hounslow|             Robbery|   Personal Property|    0|2013|    4|\n",
       "|              Newham|     Criminal Damage|Criminal Damage T...|    0|2013|    9|\n",
       "|              Sutton|  Theft and Handling|Theft/Taking of P...|    1|2016|    8|\n",
       "|            Haringey|  Theft and Handling|Motor Vehicle Int...|    0|2013|   12|\n",
       "|             Lambeth|Violence Against ...|      Other violence|    0|2015|    4|\n",
       "|Richmond upon Thames|             Robbery|   Personal Property|    0|2014|    1|\n",
       "|          Wandsworth|Violence Against ...|    Offensive Weapon|    0|2011|   10|\n",
       "|          Hillingdon|  Theft and Handling|Theft/Taking Of M...|    0|2016|    2|\n",
       "|            Havering|Violence Against ...|        Wounding/GBH|    0|2012|    2|\n",
       "|Barking and Dagenham|  Theft and Handling|  Other Theft Person|    1|2009|    5|\n",
       "|           Redbridge|Violence Against ...|      Common Assault|    0|2009|    6|\n",
       "|Kingston upon Thames|  Theft and Handling|    Theft From Shops|    0|2016|   11|\n",
       "|              Sutton|               Drugs| Possession Of Drugs|    0|2009|   10|\n",
       "+--------------------+--------------------+--------------------+-----+----+-----+\n",
       "only showing top 20 rows"
      ]
     },
     "execution_count": 10,
     "metadata": {},
     "output_type": "execute_result"
    }
   ],
   "source": [
    "# code below to drop column lsoa_code\n",
    "data = data.drop('lsoa_code')\n",
    "\n",
    "data"
   ]
  },
  {
   "cell_type": "markdown",
   "metadata": {},
   "source": [
    "#### Boroughs included in the report\n",
    "\n",
    "<b>select the unique boroughs we have in the 'borough' column.</b>"
   ]
  },
  {
   "cell_type": "code",
   "execution_count": 11,
   "metadata": {},
   "outputs": [
    {
     "name": "stderr",
     "output_type": "stream",
     "text": [
      "                                                                                \r"
     ]
    },
    {
     "data": {
      "text/html": [
       "<table border='1'>\n",
       "<tr><th>borough</th></tr>\n",
       "<tr><td>Croydon</td></tr>\n",
       "<tr><td>Wandsworth</td></tr>\n",
       "<tr><td>Bexley</td></tr>\n",
       "<tr><td>Lambeth</td></tr>\n",
       "<tr><td>Barking and Dagenham</td></tr>\n",
       "<tr><td>Camden</td></tr>\n",
       "<tr><td>Greenwich</td></tr>\n",
       "<tr><td>Newham</td></tr>\n",
       "<tr><td>Tower Hamlets</td></tr>\n",
       "<tr><td>Barnet</td></tr>\n",
       "<tr><td>Hounslow</td></tr>\n",
       "<tr><td>Harrow</td></tr>\n",
       "<tr><td>Kensington and Ch...</td></tr>\n",
       "<tr><td>Islington</td></tr>\n",
       "<tr><td>Brent</td></tr>\n",
       "<tr><td>Haringey</td></tr>\n",
       "<tr><td>Bromley</td></tr>\n",
       "<tr><td>Merton</td></tr>\n",
       "<tr><td>Westminster</td></tr>\n",
       "<tr><td>Southwark</td></tr>\n",
       "</table>\n",
       "only showing top 20 rows\n"
      ],
      "text/plain": [
       "+--------------------+\n",
       "|             borough|\n",
       "+--------------------+\n",
       "|             Croydon|\n",
       "|          Wandsworth|\n",
       "|              Bexley|\n",
       "|             Lambeth|\n",
       "|Barking and Dagenham|\n",
       "|              Camden|\n",
       "|           Greenwich|\n",
       "|              Newham|\n",
       "|       Tower Hamlets|\n",
       "|            Hounslow|\n",
       "|              Barnet|\n",
       "|              Harrow|\n",
       "|Kensington and Ch...|\n",
       "|           Islington|\n",
       "|               Brent|\n",
       "|            Haringey|\n",
       "|             Bromley|\n",
       "|              Merton|\n",
       "|         Westminster|\n",
       "|             Hackney|\n",
       "+--------------------+\n",
       "only showing top 20 rows"
      ]
     },
     "execution_count": 11,
     "metadata": {},
     "output_type": "execute_result"
    }
   ],
   "source": [
    "# code here\n",
    "# Remove before sharing with students\n",
    "unique_boroughs = data.select('borough').distinct()\n",
    "        \n",
    "unique_boroughs"
   ]
  },
  {
   "cell_type": "markdown",
   "metadata": {},
   "source": [
    "<b>Show how many unique boroughs are there in the data.</b>"
   ]
  },
  {
   "cell_type": "code",
   "execution_count": 12,
   "metadata": {},
   "outputs": [
    {
     "name": "stderr",
     "output_type": "stream",
     "text": [
      "                                                                                \r"
     ]
    },
    {
     "data": {
      "text/plain": [
       "33"
      ]
     },
     "execution_count": 12,
     "metadata": {},
     "output_type": "execute_result"
    }
   ],
   "source": [
    "# code here\n",
    "# Remove before sharing with students\n",
    "unique_boroughs.count()"
   ]
  },
  {
   "cell_type": "markdown",
   "metadata": {},
   "source": [
    "<b>Get the data related to borough \"Hackney\" only.</b>"
   ]
  },
  {
   "cell_type": "code",
   "execution_count": 13,
   "metadata": {},
   "outputs": [
    {
     "data": {
      "text/html": [
       "<table border='1'>\n",
       "<tr><th>borough</th><th>major_category</th><th>minor_category</th><th>value</th><th>year</th><th>month</th></tr>\n",
       "<tr><td>Hackney</td><td>Criminal Damage</td><td>Criminal Damage T...</td><td>0</td><td>2011</td><td>6</td></tr>\n",
       "<tr><td>Hackney</td><td>Violence Against ...</td><td>Harassment</td><td>1</td><td>2013</td><td>2</td></tr>\n",
       "<tr><td>Hackney</td><td>Criminal Damage</td><td>Other Criminal Da...</td><td>0</td><td>2011</td><td>7</td></tr>\n",
       "<tr><td>Hackney</td><td>Violence Against ...</td><td>Wounding/GBH</td><td>0</td><td>2013</td><td>12</td></tr>\n",
       "<tr><td>Hackney</td><td>Theft and Handling</td><td>Other Theft Person</td><td>0</td><td>2016</td><td>8</td></tr>\n",
       "<tr><td>Hackney</td><td>Burglary</td><td>Burglary in a Dwe...</td><td>2</td><td>2008</td><td>5</td></tr>\n",
       "<tr><td>Hackney</td><td>Robbery</td><td>Business Property</td><td>0</td><td>2016</td><td>7</td></tr>\n",
       "<tr><td>Hackney</td><td>Theft and Handling</td><td>Theft/Taking of P...</td><td>0</td><td>2009</td><td>12</td></tr>\n",
       "<tr><td>Hackney</td><td>Drugs</td><td>Drug Trafficking</td><td>0</td><td>2014</td><td>4</td></tr>\n",
       "<tr><td>Hackney</td><td>Theft and Handling</td><td>Handling Stolen G...</td><td>0</td><td>2014</td><td>6</td></tr>\n",
       "<tr><td>Hackney</td><td>Burglary</td><td>Burglary in Other...</td><td>0</td><td>2008</td><td>12</td></tr>\n",
       "<tr><td>Hackney</td><td>Violence Against ...</td><td>Assault with Injury</td><td>0</td><td>2010</td><td>1</td></tr>\n",
       "<tr><td>Hackney</td><td>Theft and Handling</td><td>Other Theft Person</td><td>0</td><td>2008</td><td>8</td></tr>\n",
       "<tr><td>Hackney</td><td>Violence Against ...</td><td>Assault with Injury</td><td>2</td><td>2015</td><td>5</td></tr>\n",
       "<tr><td>Hackney</td><td>Theft and Handling</td><td>Theft/Taking Of M...</td><td>0</td><td>2009</td><td>12</td></tr>\n",
       "<tr><td>Hackney</td><td>Violence Against ...</td><td>Offensive Weapon</td><td>0</td><td>2015</td><td>9</td></tr>\n",
       "<tr><td>Hackney</td><td>Violence Against ...</td><td>Harassment</td><td>2</td><td>2008</td><td>10</td></tr>\n",
       "<tr><td>Hackney</td><td>Violence Against ...</td><td>Harassment</td><td>0</td><td>2015</td><td>3</td></tr>\n",
       "<tr><td>Hackney</td><td>Theft and Handling</td><td>Other Theft Person</td><td>1</td><td>2009</td><td>5</td></tr>\n",
       "<tr><td>Hackney</td><td>Other Notifiable ...</td><td>Other Notifiable</td><td>0</td><td>2008</td><td>9</td></tr>\n",
       "</table>\n",
       "only showing top 20 rows\n"
      ],
      "text/plain": [
       "+-------+--------------------+--------------------+-----+----+-----+\n",
       "|borough|      major_category|      minor_category|value|year|month|\n",
       "+-------+--------------------+--------------------+-----+----+-----+\n",
       "|Hackney|     Criminal Damage|Criminal Damage T...|    0|2011|    6|\n",
       "|Hackney|Violence Against ...|          Harassment|    1|2013|    2|\n",
       "|Hackney|     Criminal Damage|Other Criminal Da...|    0|2011|    7|\n",
       "|Hackney|Violence Against ...|        Wounding/GBH|    0|2013|   12|\n",
       "|Hackney|  Theft and Handling|  Other Theft Person|    0|2016|    8|\n",
       "|Hackney|            Burglary|Burglary in a Dwe...|    2|2008|    5|\n",
       "|Hackney|             Robbery|   Business Property|    0|2016|    7|\n",
       "|Hackney|  Theft and Handling|Theft/Taking of P...|    0|2009|   12|\n",
       "|Hackney|               Drugs|    Drug Trafficking|    0|2014|    4|\n",
       "|Hackney|  Theft and Handling|Handling Stolen G...|    0|2014|    6|\n",
       "|Hackney|            Burglary|Burglary in Other...|    0|2008|   12|\n",
       "|Hackney|Violence Against ...| Assault with Injury|    0|2010|    1|\n",
       "|Hackney|  Theft and Handling|  Other Theft Person|    0|2008|    8|\n",
       "|Hackney|Violence Against ...| Assault with Injury|    2|2015|    5|\n",
       "|Hackney|  Theft and Handling|Theft/Taking Of M...|    0|2009|   12|\n",
       "|Hackney|Violence Against ...|    Offensive Weapon|    0|2015|    9|\n",
       "|Hackney|Violence Against ...|          Harassment|    2|2008|   10|\n",
       "|Hackney|Violence Against ...|          Harassment|    0|2015|    3|\n",
       "|Hackney|  Theft and Handling|  Other Theft Person|    1|2009|    5|\n",
       "|Hackney|Other Notifiable ...|    Other Notifiable|    0|2008|    9|\n",
       "+-------+--------------------+--------------------+-----+----+-----+\n",
       "only showing top 20 rows"
      ]
     },
     "execution_count": 13,
     "metadata": {},
     "output_type": "execute_result"
    }
   ],
   "source": [
    "# code here\n",
    "# Remove before sharing with students\n",
    "hackney_data = data.filter(data.borough == \"Hackney\")\n",
    "\n",
    "hackney_data"
   ]
  },
  {
   "cell_type": "markdown",
   "metadata": {},
   "source": [
    "<b>Get data related to years 2015 and 2016.</b>\n",
    "\n",
    "<sub>Hint: use isin()</sub>\n",
    "\n",
    "<sub>Hint: use *sample* function to select a fraction of 10% of the data</sub>"
   ]
  },
  {
   "cell_type": "code",
   "execution_count": 14,
   "metadata": {},
   "outputs": [
    {
     "data": {
      "text/html": [
       "<table border='1'>\n",
       "<tr><th>borough</th><th>major_category</th><th>minor_category</th><th>value</th><th>year</th><th>month</th></tr>\n",
       "<tr><td>Hounslow</td><td>Criminal Damage</td><td>Criminal Damage T...</td><td>0</td><td>2015</td><td>2</td></tr>\n",
       "<tr><td>Hackney</td><td>Theft and Handling</td><td>Other Theft Person</td><td>0</td><td>2016</td><td>8</td></tr>\n",
       "<tr><td>Newham</td><td>Theft and Handling</td><td>Theft/Taking of P...</td><td>0</td><td>2016</td><td>3</td></tr>\n",
       "<tr><td>Kensington and Ch...</td><td>Other Notifiable ...</td><td>Other Notifiable</td><td>0</td><td>2015</td><td>5</td></tr>\n",
       "<tr><td>Hillingdon</td><td>Violence Against ...</td><td>Other violence</td><td>0</td><td>2016</td><td>11</td></tr>\n",
       "<tr><td>Richmond upon Thames</td><td>Violence Against ...</td><td>Common Assault</td><td>0</td><td>2015</td><td>3</td></tr>\n",
       "<tr><td>Greenwich</td><td>Robbery</td><td>Business Property</td><td>0</td><td>2015</td><td>12</td></tr>\n",
       "<tr><td>Havering</td><td>Violence Against ...</td><td>Harassment</td><td>1</td><td>2016</td><td>8</td></tr>\n",
       "<tr><td>Hammersmith and F...</td><td>Burglary</td><td>Burglary in Other...</td><td>0</td><td>2015</td><td>3</td></tr>\n",
       "<tr><td>Barnet</td><td>Theft and Handling</td><td>Handling Stolen G...</td><td>0</td><td>2016</td><td>4</td></tr>\n",
       "<tr><td>Hillingdon</td><td>Violence Against ...</td><td>Wounding/GBH</td><td>0</td><td>2016</td><td>9</td></tr>\n",
       "<tr><td>Southwark</td><td>Theft and Handling</td><td>Handling Stolen G...</td><td>0</td><td>2015</td><td>3</td></tr>\n",
       "<tr><td>Lambeth</td><td>Violence Against ...</td><td>Harassment</td><td>2</td><td>2016</td><td>8</td></tr>\n",
       "<tr><td>Redbridge</td><td>Other Notifiable ...</td><td>Going Equipped</td><td>0</td><td>2015</td><td>9</td></tr>\n",
       "<tr><td>Wandsworth</td><td>Violence Against ...</td><td>Harassment</td><td>0</td><td>2016</td><td>11</td></tr>\n",
       "<tr><td>Redbridge</td><td>Other Notifiable ...</td><td>Other Notifiable</td><td>0</td><td>2016</td><td>5</td></tr>\n",
       "<tr><td>Lewisham</td><td>Drugs</td><td>Drug Trafficking</td><td>0</td><td>2016</td><td>7</td></tr>\n",
       "<tr><td>Southwark</td><td>Violence Against ...</td><td>Wounding/GBH</td><td>1</td><td>2015</td><td>1</td></tr>\n",
       "<tr><td>Haringey</td><td>Violence Against ...</td><td>Assault with Injury</td><td>2</td><td>2015</td><td>3</td></tr>\n",
       "<tr><td>Lambeth</td><td>Fraud or Forgery</td><td>Counted per Victim</td><td>0</td><td>2016</td><td>2</td></tr>\n",
       "</table>\n",
       "only showing top 20 rows\n"
      ],
      "text/plain": [
       "+--------------------+--------------------+--------------------+-----+----+-----+\n",
       "|             borough|      major_category|      minor_category|value|year|month|\n",
       "+--------------------+--------------------+--------------------+-----+----+-----+\n",
       "|            Hounslow|     Criminal Damage|Criminal Damage T...|    0|2015|    2|\n",
       "|             Hackney|  Theft and Handling|  Other Theft Person|    0|2016|    8|\n",
       "|              Newham|  Theft and Handling|Theft/Taking of P...|    0|2016|    3|\n",
       "|Kensington and Ch...|Other Notifiable ...|    Other Notifiable|    0|2015|    5|\n",
       "|          Hillingdon|Violence Against ...|      Other violence|    0|2016|   11|\n",
       "|Richmond upon Thames|Violence Against ...|      Common Assault|    0|2015|    3|\n",
       "|           Greenwich|             Robbery|   Business Property|    0|2015|   12|\n",
       "|            Havering|Violence Against ...|          Harassment|    1|2016|    8|\n",
       "|Hammersmith and F...|            Burglary|Burglary in Other...|    0|2015|    3|\n",
       "|              Barnet|  Theft and Handling|Handling Stolen G...|    0|2016|    4|\n",
       "|          Hillingdon|Violence Against ...|        Wounding/GBH|    0|2016|    9|\n",
       "|           Southwark|  Theft and Handling|Handling Stolen G...|    0|2015|    3|\n",
       "|             Lambeth|Violence Against ...|          Harassment|    2|2016|    8|\n",
       "|           Redbridge|Other Notifiable ...|      Going Equipped|    0|2015|    9|\n",
       "|          Wandsworth|Violence Against ...|          Harassment|    0|2016|   11|\n",
       "|           Redbridge|Other Notifiable ...|    Other Notifiable|    0|2016|    5|\n",
       "|            Lewisham|               Drugs|    Drug Trafficking|    0|2016|    7|\n",
       "|           Southwark|Violence Against ...|        Wounding/GBH|    1|2015|    1|\n",
       "|            Haringey|Violence Against ...| Assault with Injury|    2|2015|    3|\n",
       "|             Lambeth|    Fraud or Forgery|  Counted per Victim|    0|2016|    2|\n",
       "+--------------------+--------------------+--------------------+-----+----+-----+\n",
       "only showing top 20 rows"
      ]
     },
     "execution_count": 14,
     "metadata": {},
     "output_type": "execute_result"
    }
   ],
   "source": [
    "# Code here\n",
    "# Remove before sharing with students\n",
    "data_2015_2016 = data.filter(data.year.isin('2016', '2015'))\n",
    "\n",
    "data_2015_2016.sample(fraction=0.1)"
   ]
  },
  {
   "cell_type": "markdown",
   "metadata": {},
   "source": [
    "<b>Get all the data related to year 2014 and forward.</b>"
   ]
  },
  {
   "cell_type": "code",
   "execution_count": 16,
   "metadata": {},
   "outputs": [
    {
     "data": {
      "text/html": [
       "<table border='1'>\n",
       "<tr><th>borough</th><th>major_category</th><th>minor_category</th><th>value</th><th>year</th><th>month</th></tr>\n",
       "<tr><td>Richmond upon Thames</td><td>Robbery</td><td>Personal Property</td><td>0</td><td>2014</td><td>1</td></tr>\n",
       "<tr><td>Southwark</td><td>Theft and Handling</td><td>Theft From Shops</td><td>4</td><td>2016</td><td>8</td></tr>\n",
       "<tr><td>Barnet</td><td>Violence Against ...</td><td>Other violence</td><td>0</td><td>2015</td><td>12</td></tr>\n",
       "<tr><td>Newham</td><td>Burglary</td><td>Burglary in Other...</td><td>0</td><td>2015</td><td>2</td></tr>\n",
       "<tr><td>Croydon</td><td>Robbery</td><td>Personal Property</td><td>0</td><td>2016</td><td>1</td></tr>\n",
       "<tr><td>Kensington and Ch...</td><td>Robbery</td><td>Personal Property</td><td>1</td><td>2015</td><td>7</td></tr>\n",
       "<tr><td>Tower Hamlets</td><td>Robbery</td><td>Personal Property</td><td>0</td><td>2016</td><td>10</td></tr>\n",
       "<tr><td>Ealing</td><td>Theft and Handling</td><td>Theft/Taking Of M...</td><td>0</td><td>2016</td><td>1</td></tr>\n",
       "<tr><td>Croydon</td><td>Robbery</td><td>Business Property</td><td>0</td><td>2014</td><td>6</td></tr>\n",
       "<tr><td>Wandsworth</td><td>Theft and Handling</td><td>Handling Stolen G...</td><td>0</td><td>2016</td><td>2</td></tr>\n",
       "<tr><td>Enfield</td><td>Theft and Handling</td><td>Motor Vehicle Int...</td><td>1</td><td>2015</td><td>7</td></tr>\n",
       "<tr><td>Brent</td><td>Other Notifiable ...</td><td>Other Notifiable</td><td>0</td><td>2016</td><td>4</td></tr>\n",
       "<tr><td>Hammersmith and F...</td><td>Theft and Handling</td><td>Theft/Taking of P...</td><td>1</td><td>2014</td><td>6</td></tr>\n",
       "<tr><td>Newham</td><td>Theft and Handling</td><td>Theft From Shops</td><td>0</td><td>2014</td><td>1</td></tr>\n",
       "<tr><td>Croydon</td><td>Violence Against ...</td><td>Wounding/GBH</td><td>0</td><td>2016</td><td>6</td></tr>\n",
       "<tr><td>Wandsworth</td><td>Violence Against ...</td><td>Assault with Injury</td><td>0</td><td>2014</td><td>9</td></tr>\n",
       "<tr><td>Bromley</td><td>Drugs</td><td>Possession Of Drugs</td><td>1</td><td>2016</td><td>1</td></tr>\n",
       "<tr><td>Bexley</td><td>Burglary</td><td>Burglary in Other...</td><td>0</td><td>2015</td><td>8</td></tr>\n",
       "<tr><td>Hounslow</td><td>Violence Against ...</td><td>Other violence</td><td>0</td><td>2015</td><td>11</td></tr>\n",
       "<tr><td>Barking and Dagenham</td><td>Criminal Damage</td><td>Criminal Damage T...</td><td>4</td><td>2015</td><td>6</td></tr>\n",
       "</table>\n",
       "only showing top 20 rows\n"
      ],
      "text/plain": [
       "+--------------------+--------------------+--------------------+-----+----+-----+\n",
       "|             borough|      major_category|      minor_category|value|year|month|\n",
       "+--------------------+--------------------+--------------------+-----+----+-----+\n",
       "|Richmond upon Thames|             Robbery|   Personal Property|    0|2014|    1|\n",
       "|           Southwark|  Theft and Handling|    Theft From Shops|    4|2016|    8|\n",
       "|              Barnet|Violence Against ...|      Other violence|    0|2015|   12|\n",
       "|              Newham|            Burglary|Burglary in Other...|    0|2015|    2|\n",
       "|             Croydon|             Robbery|   Personal Property|    0|2016|    1|\n",
       "|Kensington and Ch...|             Robbery|   Personal Property|    1|2015|    7|\n",
       "|       Tower Hamlets|             Robbery|   Personal Property|    0|2016|   10|\n",
       "|              Ealing|  Theft and Handling|Theft/Taking Of M...|    0|2016|    1|\n",
       "|             Croydon|             Robbery|   Business Property|    0|2014|    6|\n",
       "|          Wandsworth|  Theft and Handling|Handling Stolen G...|    0|2016|    2|\n",
       "|             Enfield|  Theft and Handling|Motor Vehicle Int...|    1|2015|    7|\n",
       "|               Brent|Other Notifiable ...|    Other Notifiable|    0|2016|    4|\n",
       "|Hammersmith and F...|  Theft and Handling|Theft/Taking of P...|    1|2014|    6|\n",
       "|              Newham|  Theft and Handling|    Theft From Shops|    0|2014|    1|\n",
       "|             Croydon|Violence Against ...|        Wounding/GBH|    0|2016|    6|\n",
       "|          Wandsworth|Violence Against ...| Assault with Injury|    0|2014|    9|\n",
       "|             Bromley|               Drugs| Possession Of Drugs|    1|2016|    1|\n",
       "|              Bexley|            Burglary|Burglary in Other...|    0|2015|    8|\n",
       "|            Hounslow|Violence Against ...|      Other violence|    0|2015|   11|\n",
       "|Barking and Dagenham|     Criminal Damage|Criminal Damage T...|    4|2015|    6|\n",
       "+--------------------+--------------------+--------------------+-----+----+-----+\n",
       "only showing top 20 rows"
      ]
     },
     "execution_count": 16,
     "metadata": {},
     "output_type": "execute_result"
    }
   ],
   "source": [
    "#code here\n",
    "# Remove before sharing with students\n",
    "data_2014_onwards = data.filter (data.year >= 2014)\n",
    "\n",
    "data_2014_onwards.sample(fraction=0.1)"
   ]
  },
  {
   "cell_type": "markdown",
   "metadata": {},
   "source": [
    "<b>Get the count of crimes for each borough.</b>"
   ]
  },
  {
   "cell_type": "code",
   "execution_count": 17,
   "metadata": {
    "scrolled": true
   },
   "outputs": [
    {
     "name": "stderr",
     "output_type": "stream",
     "text": [
      "                                                                                \r"
     ]
    },
    {
     "data": {
      "text/html": [
       "<table border='1'>\n",
       "<tr><th>borough</th><th>count</th></tr>\n",
       "<tr><td>Croydon</td><td>602100</td></tr>\n",
       "<tr><td>Wandsworth</td><td>498636</td></tr>\n",
       "<tr><td>Bexley</td><td>385668</td></tr>\n",
       "<tr><td>Lambeth</td><td>519048</td></tr>\n",
       "<tr><td>Barking and Dagenham</td><td>311040</td></tr>\n",
       "<tr><td>Camden</td><td>378432</td></tr>\n",
       "<tr><td>Greenwich</td><td>421200</td></tr>\n",
       "<tr><td>Newham</td><td>471420</td></tr>\n",
       "<tr><td>Tower Hamlets</td><td>412128</td></tr>\n",
       "<tr><td>Barnet</td><td>572832</td></tr>\n",
       "<tr><td>Hounslow</td><td>395928</td></tr>\n",
       "<tr><td>Harrow</td><td>365688</td></tr>\n",
       "<tr><td>Kensington and Ch...</td><td>296784</td></tr>\n",
       "<tr><td>Islington</td><td>359208</td></tr>\n",
       "<tr><td>Brent</td><td>490644</td></tr>\n",
       "<tr><td>Haringey</td><td>413856</td></tr>\n",
       "<tr><td>Bromley</td><td>523908</td></tr>\n",
       "<tr><td>Merton</td><td>339876</td></tr>\n",
       "<tr><td>Westminster</td><td>366660</td></tr>\n",
       "<tr><td>Hackney</td><td>417744</td></tr>\n",
       "</table>\n",
       "only showing top 20 rows\n"
      ],
      "text/plain": [
       "+--------------------+------+\n",
       "|             borough| count|\n",
       "+--------------------+------+\n",
       "|             Croydon|602100|\n",
       "|          Wandsworth|498636|\n",
       "|              Bexley|385668|\n",
       "|             Lambeth|519048|\n",
       "|Barking and Dagenham|311040|\n",
       "|              Camden|378432|\n",
       "|           Greenwich|421200|\n",
       "|              Newham|471420|\n",
       "|       Tower Hamlets|412128|\n",
       "|              Barnet|572832|\n",
       "|            Hounslow|395928|\n",
       "|              Harrow|365688|\n",
       "|Kensington and Ch...|296784|\n",
       "|           Islington|359208|\n",
       "|               Brent|490644|\n",
       "|            Haringey|413856|\n",
       "|             Bromley|523908|\n",
       "|              Merton|339876|\n",
       "|         Westminster|366660|\n",
       "|             Hackney|417744|\n",
       "+--------------------+------+\n",
       "only showing top 20 rows"
      ]
     },
     "execution_count": 17,
     "metadata": {},
     "output_type": "execute_result"
    }
   ],
   "source": [
    "# Code here\n",
    "# Remove before sharing with students\n",
    "borough_crime_count = data.groupBy('borough').count()\n",
    "    \n",
    "borough_crime_count"
   ]
  },
  {
   "cell_type": "markdown",
   "metadata": {},
   "source": [
    "<b> Get the total convictions per borough.</b>"
   ]
  },
  {
   "cell_type": "code",
   "execution_count": 18,
   "metadata": {},
   "outputs": [
    {
     "name": "stderr",
     "output_type": "stream",
     "text": [
      "                                                                                \r"
     ]
    },
    {
     "data": {
      "text/html": [
       "<table border='1'>\n",
       "<tr><th>borough</th><th>sum(value)</th></tr>\n",
       "<tr><td>Croydon</td><td>260294.0</td></tr>\n",
       "<tr><td>Wandsworth</td><td>204741.0</td></tr>\n",
       "<tr><td>Bexley</td><td>114136.0</td></tr>\n",
       "<tr><td>Lambeth</td><td>292178.0</td></tr>\n",
       "<tr><td>Barking and Dagenham</td><td>149447.0</td></tr>\n",
       "<tr><td>Camden</td><td>275147.0</td></tr>\n",
       "<tr><td>Greenwich</td><td>181568.0</td></tr>\n",
       "<tr><td>Newham</td><td>262024.0</td></tr>\n",
       "<tr><td>Tower Hamlets</td><td>228613.0</td></tr>\n",
       "<tr><td>Hounslow</td><td>186772.0</td></tr>\n",
       "<tr><td>Barnet</td><td>212191.0</td></tr>\n",
       "<tr><td>Harrow</td><td>116848.0</td></tr>\n",
       "<tr><td>Kensington and Ch...</td><td>171981.0</td></tr>\n",
       "<tr><td>Islington</td><td>230286.0</td></tr>\n",
       "<tr><td>Brent</td><td>227551.0</td></tr>\n",
       "<tr><td>Haringey</td><td>213272.0</td></tr>\n",
       "<tr><td>Bromley</td><td>184349.0</td></tr>\n",
       "<tr><td>Merton</td><td>115654.0</td></tr>\n",
       "<tr><td>Westminster</td><td>455028.0</td></tr>\n",
       "<tr><td>Hackney</td><td>217119.0</td></tr>\n",
       "</table>\n",
       "only showing top 20 rows\n"
      ],
      "text/plain": [
       "+--------------------+----------+\n",
       "|             borough|sum(value)|\n",
       "+--------------------+----------+\n",
       "|             Croydon|  260294.0|\n",
       "|          Wandsworth|  204741.0|\n",
       "|              Bexley|  114136.0|\n",
       "|             Lambeth|  292178.0|\n",
       "|Barking and Dagenham|  149447.0|\n",
       "|              Camden|  275147.0|\n",
       "|           Greenwich|  181568.0|\n",
       "|              Newham|  262024.0|\n",
       "|       Tower Hamlets|  228613.0|\n",
       "|              Barnet|  212191.0|\n",
       "|            Hounslow|  186772.0|\n",
       "|              Harrow|  116848.0|\n",
       "|Kensington and Ch...|  171981.0|\n",
       "|           Islington|  230286.0|\n",
       "|               Brent|  227551.0|\n",
       "|            Haringey|  213272.0|\n",
       "|             Bromley|  184349.0|\n",
       "|              Merton|  115654.0|\n",
       "|         Westminster|  455028.0|\n",
       "|           Southwark|  278809.0|\n",
       "+--------------------+----------+\n",
       "only showing top 20 rows"
      ]
     },
     "execution_count": 18,
     "metadata": {},
     "output_type": "execute_result"
    }
   ],
   "source": [
    "# Code here\n",
    "# Remove before sharing with students\n",
    "borough_conviction_sum = data.groupBy('borough')\\\n",
    "                             .agg({\"value\":\"sum\"})\n",
    "\n",
    "borough_conviction_sum"
   ]
  },
  {
   "cell_type": "markdown",
   "metadata": {},
   "source": [
    "<b>Rename the column of sum(value) to be \"convictions\".</b>\n",
    "\n",
    "<sub> Hint: use built-in function *withColumnRenamed*.</sub>"
   ]
  },
  {
   "cell_type": "code",
   "execution_count": 19,
   "metadata": {},
   "outputs": [
    {
     "name": "stderr",
     "output_type": "stream",
     "text": [
      "                                                                                \r"
     ]
    },
    {
     "data": {
      "text/html": [
       "<table border='1'>\n",
       "<tr><th>borough</th><th>convictions</th></tr>\n",
       "<tr><td>Croydon</td><td>260294.0</td></tr>\n",
       "<tr><td>Wandsworth</td><td>204741.0</td></tr>\n",
       "<tr><td>Bexley</td><td>114136.0</td></tr>\n",
       "<tr><td>Lambeth</td><td>292178.0</td></tr>\n",
       "<tr><td>Barking and Dagenham</td><td>149447.0</td></tr>\n",
       "<tr><td>Camden</td><td>275147.0</td></tr>\n",
       "<tr><td>Greenwich</td><td>181568.0</td></tr>\n",
       "<tr><td>Newham</td><td>262024.0</td></tr>\n",
       "<tr><td>Tower Hamlets</td><td>228613.0</td></tr>\n",
       "<tr><td>Hounslow</td><td>186772.0</td></tr>\n",
       "<tr><td>Barnet</td><td>212191.0</td></tr>\n",
       "<tr><td>Harrow</td><td>116848.0</td></tr>\n",
       "<tr><td>Kensington and Ch...</td><td>171981.0</td></tr>\n",
       "<tr><td>Islington</td><td>230286.0</td></tr>\n",
       "<tr><td>Brent</td><td>227551.0</td></tr>\n",
       "<tr><td>Haringey</td><td>213272.0</td></tr>\n",
       "<tr><td>Bromley</td><td>184349.0</td></tr>\n",
       "<tr><td>Merton</td><td>115654.0</td></tr>\n",
       "<tr><td>Westminster</td><td>455028.0</td></tr>\n",
       "<tr><td>Southwark</td><td>278809.0</td></tr>\n",
       "</table>\n",
       "only showing top 20 rows\n"
      ],
      "text/plain": [
       "+--------------------+-----------+\n",
       "|             borough|convictions|\n",
       "+--------------------+-----------+\n",
       "|             Croydon|   260294.0|\n",
       "|          Wandsworth|   204741.0|\n",
       "|              Bexley|   114136.0|\n",
       "|             Lambeth|   292178.0|\n",
       "|Barking and Dagenham|   149447.0|\n",
       "|              Camden|   275147.0|\n",
       "|           Greenwich|   181568.0|\n",
       "|              Newham|   262024.0|\n",
       "|       Tower Hamlets|   228613.0|\n",
       "|              Barnet|   212191.0|\n",
       "|            Hounslow|   186772.0|\n",
       "|              Harrow|   116848.0|\n",
       "|Kensington and Ch...|   171981.0|\n",
       "|           Islington|   230286.0|\n",
       "|               Brent|   227551.0|\n",
       "|            Haringey|   213272.0|\n",
       "|             Bromley|   184349.0|\n",
       "|              Merton|   115654.0|\n",
       "|         Westminster|   455028.0|\n",
       "|           Southwark|   278809.0|\n",
       "+--------------------+-----------+\n",
       "only showing top 20 rows"
      ]
     },
     "execution_count": 19,
     "metadata": {},
     "output_type": "execute_result"
    }
   ],
   "source": [
    "# Code here\n",
    "# Remove before sharing with students\n",
    "borough_conviction_sum = borough_conviction_sum.withColumnRenamed('sum(value)', 'convictions')\n",
    "\n",
    "borough_conviction_sum"
   ]
  },
  {
   "cell_type": "markdown",
   "metadata": {},
   "source": [
    "#### Per-borough convictions expressed in percentage"
   ]
  },
  {
   "cell_type": "markdown",
   "metadata": {},
   "source": [
    "<b> Get the sum of overall convictions.</b>"
   ]
  },
  {
   "cell_type": "code",
   "execution_count": 20,
   "metadata": {},
   "outputs": [
    {
     "name": "stderr",
     "output_type": "stream",
     "text": [
      "                                                                                \r"
     ]
    },
    {
     "data": {
      "text/html": [
       "<table border='1'>\n",
       "<tr><th>sum(convictions)</th></tr>\n",
       "<tr><td>6447758.0</td></tr>\n",
       "</table>\n"
      ],
      "text/plain": [
       "+----------------+\n",
       "|sum(convictions)|\n",
       "+----------------+\n",
       "|       6447758.0|\n",
       "+----------------+"
      ]
     },
     "execution_count": 20,
     "metadata": {},
     "output_type": "execute_result"
    }
   ],
   "source": [
    "# Code here\n",
    "# Remove before sharing with students\n",
    "total_borough_convictions = borough_conviction_sum.agg({\"convictions\":\"sum\"})\n",
    "\n",
    "total_borough_convictions"
   ]
  },
  {
   "cell_type": "markdown",
   "metadata": {},
   "source": [
    "<b> Extract the total convictions into a variable.</b>"
   ]
  },
  {
   "cell_type": "code",
   "execution_count": 21,
   "metadata": {},
   "outputs": [
    {
     "name": "stderr",
     "output_type": "stream",
     "text": [
      "                                                                                \r"
     ]
    }
   ],
   "source": [
    "total_convictions = total_borough_convictions.collect()[0][0]"
   ]
  },
  {
   "cell_type": "markdown",
   "metadata": {},
   "source": [
    "<b> Add a new column which contains the percentage of convictions for each borough.</b>\n",
    "\n",
    "<sub> Hint: will use the *withColumn* built-in function to add a new column to the DF.</sub>\n",
    "\n",
    "<sub> Hint: We can use a rounding function to make the percentage rounded to two decimal places. For this, use the pyspark.sql.functions package.</sub>"
   ]
  },
  {
   "cell_type": "code",
   "execution_count": 22,
   "metadata": {},
   "outputs": [],
   "source": [
    "import pyspark.sql.functions as func"
   ]
  },
  {
   "cell_type": "code",
   "execution_count": 23,
   "metadata": {},
   "outputs": [
    {
     "name": "stdout",
     "output_type": "stream",
     "text": [
      "root\n",
      " |-- borough: string (nullable = true)\n",
      " |-- convictions: double (nullable = true)\n",
      " |-- % contribution: double (nullable = true)\n",
      "\n"
     ]
    }
   ],
   "source": [
    "# Code here\n",
    "# Remove before sharing with students\n",
    "borough_percentage_contribution = borough_conviction_sum.withColumn('% contribution',func.round((borough_conviction_sum.convictions/total_convictions)*100,2))\n",
    "\n",
    "borough_percentage_contribution.printSchema()"
   ]
  },
  {
   "cell_type": "markdown",
   "metadata": {},
   "source": [
    "<b> Order the data frame borough_percentage_contribution by the third added column in descending order  and show your results.</b>"
   ]
  },
  {
   "cell_type": "code",
   "execution_count": 28,
   "metadata": {},
   "outputs": [
    {
     "name": "stderr",
     "output_type": "stream",
     "text": [
      "                                                                                \r"
     ]
    },
    {
     "data": {
      "text/html": [
       "<table border='1'>\n",
       "<tr><th>borough</th><th>convictions</th><th>% contribution</th></tr>\n",
       "<tr><td>Westminster</td><td>455028.0</td><td>7.06</td></tr>\n",
       "<tr><td>Lambeth</td><td>292178.0</td><td>4.53</td></tr>\n",
       "<tr><td>Southwark</td><td>278809.0</td><td>4.32</td></tr>\n",
       "<tr><td>Camden</td><td>275147.0</td><td>4.27</td></tr>\n",
       "<tr><td>Newham</td><td>262024.0</td><td>4.06</td></tr>\n",
       "<tr><td>Croydon</td><td>260294.0</td><td>4.04</td></tr>\n",
       "<tr><td>Ealing</td><td>251562.0</td><td>3.9</td></tr>\n",
       "<tr><td>Islington</td><td>230286.0</td><td>3.57</td></tr>\n",
       "<tr><td>Tower Hamlets</td><td>228613.0</td><td>3.55</td></tr>\n",
       "<tr><td>Brent</td><td>227551.0</td><td>3.53</td></tr>\n",
       "<tr><td>Hackney</td><td>217119.0</td><td>3.37</td></tr>\n",
       "<tr><td>Lewisham</td><td>215137.0</td><td>3.34</td></tr>\n",
       "<tr><td>Haringey</td><td>213272.0</td><td>3.31</td></tr>\n",
       "<tr><td>Barnet</td><td>212191.0</td><td>3.29</td></tr>\n",
       "<tr><td>Hillingdon</td><td>209680.0</td><td>3.25</td></tr>\n",
       "<tr><td>Wandsworth</td><td>204741.0</td><td>3.18</td></tr>\n",
       "<tr><td>Waltham Forest</td><td>203879.0</td><td>3.16</td></tr>\n",
       "<tr><td>Enfield</td><td>193880.0</td><td>3.01</td></tr>\n",
       "<tr><td>Hounslow</td><td>186772.0</td><td>2.9</td></tr>\n",
       "<tr><td>Hammersmith and F...</td><td>185259.0</td><td>2.87</td></tr>\n",
       "</table>\n",
       "only showing top 20 rows\n"
      ],
      "text/plain": [
       "+--------------------+-----------+--------------+\n",
       "|             borough|convictions|% contribution|\n",
       "+--------------------+-----------+--------------+\n",
       "|         Westminster|   455028.0|          7.06|\n",
       "|             Lambeth|   292178.0|          4.53|\n",
       "|           Southwark|   278809.0|          4.32|\n",
       "|              Camden|   275147.0|          4.27|\n",
       "|              Newham|   262024.0|          4.06|\n",
       "|             Croydon|   260294.0|          4.04|\n",
       "|              Ealing|   251562.0|           3.9|\n",
       "|           Islington|   230286.0|          3.57|\n",
       "|       Tower Hamlets|   228613.0|          3.55|\n",
       "|               Brent|   227551.0|          3.53|\n",
       "|             Hackney|   217119.0|          3.37|\n",
       "|            Lewisham|   215137.0|          3.34|\n",
       "|            Haringey|   213272.0|          3.31|\n",
       "|              Barnet|   212191.0|          3.29|\n",
       "|          Hillingdon|   209680.0|          3.25|\n",
       "|          Wandsworth|   204741.0|          3.18|\n",
       "|      Waltham Forest|   203879.0|          3.16|\n",
       "|             Enfield|   193880.0|          3.01|\n",
       "|            Hounslow|   186772.0|           2.9|\n",
       "|Hammersmith and F...|   185259.0|          2.87|\n",
       "+--------------------+-----------+--------------+\n",
       "only showing top 20 rows"
      ]
     },
     "execution_count": 28,
     "metadata": {},
     "output_type": "execute_result"
    }
   ],
   "source": [
    "# Code here\n",
    "# Remove before sharing with students\n",
    "df = borough_percentage_contribution.orderBy('% contribution', ascending=False)\n",
    "df"
   ]
  },
  {
   "cell_type": "markdown",
   "metadata": {},
   "source": [
    "<b>Project the \"year\" column.</b>"
   ]
  },
  {
   "cell_type": "code",
   "execution_count": 29,
   "metadata": {},
   "outputs": [
    {
     "data": {
      "text/html": [
       "<table border='1'>\n",
       "<tr><th>year</th></tr>\n",
       "<tr><td>2016</td></tr>\n",
       "<tr><td>2016</td></tr>\n",
       "<tr><td>2015</td></tr>\n",
       "<tr><td>2016</td></tr>\n",
       "<tr><td>2008</td></tr>\n",
       "<tr><td>2012</td></tr>\n",
       "<tr><td>2010</td></tr>\n",
       "<tr><td>2013</td></tr>\n",
       "<tr><td>2013</td></tr>\n",
       "<tr><td>2016</td></tr>\n",
       "<tr><td>2013</td></tr>\n",
       "<tr><td>2015</td></tr>\n",
       "<tr><td>2014</td></tr>\n",
       "<tr><td>2011</td></tr>\n",
       "<tr><td>2016</td></tr>\n",
       "<tr><td>2012</td></tr>\n",
       "<tr><td>2009</td></tr>\n",
       "<tr><td>2009</td></tr>\n",
       "<tr><td>2016</td></tr>\n",
       "<tr><td>2009</td></tr>\n",
       "</table>\n",
       "only showing top 20 rows\n"
      ],
      "text/plain": [
       "+----+\n",
       "|year|\n",
       "+----+\n",
       "|2016|\n",
       "|2016|\n",
       "|2015|\n",
       "|2016|\n",
       "|2008|\n",
       "|2012|\n",
       "|2010|\n",
       "|2013|\n",
       "|2013|\n",
       "|2016|\n",
       "|2013|\n",
       "|2015|\n",
       "|2014|\n",
       "|2011|\n",
       "|2016|\n",
       "|2012|\n",
       "|2009|\n",
       "|2009|\n",
       "|2016|\n",
       "|2009|\n",
       "+----+\n",
       "only showing top 20 rows"
      ]
     },
     "execution_count": 29,
     "metadata": {},
     "output_type": "execute_result"
    }
   ],
   "source": [
    "# Code here\n",
    "# Remove before sharing with students\n",
    "year_df = data.select('year')\n",
    "year_df"
   ]
  },
  {
   "cell_type": "markdown",
   "metadata": {},
   "source": [
    "<b>Show the minimum year.</b>"
   ]
  },
  {
   "cell_type": "code",
   "execution_count": 30,
   "metadata": {},
   "outputs": [
    {
     "name": "stderr",
     "output_type": "stream",
     "text": [
      "                                                                                \r"
     ]
    },
    {
     "data": {
      "text/html": [
       "<table border='1'>\n",
       "<tr><th>min(year)</th></tr>\n",
       "<tr><td>2008</td></tr>\n",
       "</table>\n"
      ],
      "text/plain": [
       "+---------+\n",
       "|min(year)|\n",
       "+---------+\n",
       "|     2008|\n",
       "+---------+"
      ]
     },
     "execution_count": 30,
     "metadata": {},
     "output_type": "execute_result"
    }
   ],
   "source": [
    "# Code here\n",
    "# Remove before sharing with students\n",
    "year_df.agg({\"year\":\"min\"})"
   ]
  },
  {
   "cell_type": "markdown",
   "metadata": {},
   "source": [
    "<b> Show the maximum year.</b>"
   ]
  },
  {
   "cell_type": "code",
   "execution_count": null,
   "metadata": {},
   "outputs": [],
   "source": [
    "# Code here\n",
    "# Remove before sharing with students\n",
    "year_df.agg({\"year\":\"max\"})"
   ]
  },
  {
   "cell_type": "code",
   "execution_count": 32,
   "metadata": {},
   "outputs": [
    {
     "name": "stderr",
     "output_type": "stream",
     "text": [
      "                                                                                \r"
     ]
    },
    {
     "data": {
      "text/html": [
       "<table border='1'>\n",
       "<tr><th>summary</th><th>year</th></tr>\n",
       "<tr><td>count</td><td>13490604</td></tr>\n",
       "<tr><td>mean</td><td>2012.0</td></tr>\n",
       "<tr><td>stddev</td><td>2.581988993167432</td></tr>\n",
       "<tr><td>min</td><td>2008</td></tr>\n",
       "<tr><td>max</td><td>2016</td></tr>\n",
       "</table>\n"
      ],
      "text/plain": [
       "+-------+-----------------+\n",
       "|summary|             year|\n",
       "+-------+-----------------+\n",
       "|  count|         13490604|\n",
       "|   mean|           2012.0|\n",
       "| stddev|2.581988993167432|\n",
       "|    min|             2008|\n",
       "|    max|             2016|\n",
       "+-------+-----------------+"
      ]
     },
     "execution_count": 32,
     "metadata": {},
     "output_type": "execute_result"
    }
   ],
   "source": [
    "#you can get summary using describe\n",
    "year_df.describe()"
   ]
  },
  {
   "cell_type": "markdown",
   "metadata": {},
   "source": [
    "#### Distribution of crime across boroughs in a particular year\n",
    "\n",
    "Below is a helper function that shall be used to describe each year. This function is expecting a value for the year and it wil run against the original data DF."
   ]
  },
  {
   "cell_type": "code",
   "execution_count": 33,
   "metadata": {},
   "outputs": [],
   "source": [
    "def describe_year(year):\n",
    "    yearly_details = data.filter(data.year == year)\\\n",
    "                         .groupBy('borough')\\\n",
    "                         .agg({'value':'sum'})\\\n",
    "                         .withColumnRenamed(\"sum(value)\",\"convictions\")\n",
    "    \n",
    "    borough_list = [x[0] for x in yearly_details.toLocalIterator()]\n",
    "    convictions_list = [x[1] for x in yearly_details.toLocalIterator()]\n",
    "  \n",
    "    plt.figure(figsize=(33, 10)) \n",
    "    plt.bar(borough_list, convictions_list)\n",
    "    \n",
    "    plt.title('Crime for the year: ' + year, fontsize=30)\n",
    "    plt.xlabel('Boroughs',fontsize=30)\n",
    "    plt.ylabel('Convictions', fontsize=30)\n",
    "\n",
    "    plt.xticks(rotation=90, fontsize=30)\n",
    "    plt.yticks(fontsize=30)\n",
    "    plt.autoscale()\n",
    "    plt.show()"
   ]
  },
  {
   "cell_type": "code",
   "execution_count": null,
   "metadata": {},
   "outputs": [
    {
     "name": "stderr",
     "output_type": "stream",
     "text": [
      "[Stage 114:================================>                        (4 + 2) / 7]\r"
     ]
    }
   ],
   "source": [
    "describe_year('2014')"
   ]
  },
  {
   "cell_type": "code",
   "execution_count": null,
   "metadata": {},
   "outputs": [],
   "source": []
  },
  {
   "cell_type": "code",
   "execution_count": null,
   "metadata": {},
   "outputs": [],
   "source": []
  },
  {
   "cell_type": "code",
   "execution_count": null,
   "metadata": {},
   "outputs": [],
   "source": []
  },
  {
   "cell_type": "code",
   "execution_count": null,
   "metadata": {},
   "outputs": [],
   "source": []
  },
  {
   "cell_type": "code",
   "execution_count": null,
   "metadata": {},
   "outputs": [],
   "source": []
  },
  {
   "cell_type": "code",
   "execution_count": null,
   "metadata": {},
   "outputs": [],
   "source": []
  },
  {
   "cell_type": "code",
   "execution_count": null,
   "metadata": {},
   "outputs": [],
   "source": []
  },
  {
   "cell_type": "code",
   "execution_count": null,
   "metadata": {},
   "outputs": [],
   "source": []
  },
  {
   "cell_type": "code",
   "execution_count": null,
   "metadata": {},
   "outputs": [],
   "source": []
  },
  {
   "cell_type": "code",
   "execution_count": null,
   "metadata": {},
   "outputs": [],
   "source": []
  }
 ],
 "metadata": {
  "kernelspec": {
   "display_name": "Python 3 (ipykernel)",
   "language": "python",
   "name": "python3"
  },
  "language_info": {
   "codemirror_mode": {
    "name": "ipython",
    "version": 3
   },
   "file_extension": ".py",
   "mimetype": "text/x-python",
   "name": "python",
   "nbconvert_exporter": "python",
   "pygments_lexer": "ipython3",
   "version": "3.9.2"
  }
 },
 "nbformat": 4,
 "nbformat_minor": 4
}
